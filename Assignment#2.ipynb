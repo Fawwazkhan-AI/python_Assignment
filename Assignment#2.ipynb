{
 "cells": [
  {
   "cell_type": "markdown",
   "metadata": {},
   "source": [
    "1) Area of a Rectangle: \n",
    "Write a Python program to calculate the area of a rectangle. Use the formula: \n",
    "𝐴𝒓𝒆𝒂 = 𝒍𝒆𝒏𝒈𝒕𝒉 × 𝒘𝒊𝒅𝒕𝒉\n",
    "Take length and width as inputs from the user"
   ]
  },
  {
   "cell_type": "code",
   "execution_count": 1,
   "metadata": {},
   "outputs": [
    {
     "name": "stdout",
     "output_type": "stream",
     "text": [
      "The area of the rectangle is: 35.0\n"
     ]
    }
   ],
   "source": [
    "\n",
    "length = float(input(\"Enter the length of the rectangle: \"))\n",
    "width = float(input(\"Enter the width of the rectangle: \"))\n",
    "area = length * width\n",
    "print(\"The area of the rectangle is:\", area)\n"
   ]
  },
  {
   "cell_type": "markdown",
   "metadata": {},
   "source": [
    "2) Circumference of a Circle: \n",
    "Write a Python program to calculate the circumference of a circle. Use the formula: \n",
    "𝑪𝒊𝒓𝒄𝒖𝒎𝒇𝒆𝒓𝒆𝒏𝒄𝒆 = 𝟐𝝅𝒓\n",
    "Take the radius r as input from the user."
   ]
  },
  {
   "cell_type": "code",
   "execution_count": 13,
   "metadata": {},
   "outputs": [
    {
     "name": "stdout",
     "output_type": "stream",
     "text": [
      "The circumference of the circle is: 12.56\n"
     ]
    }
   ],
   "source": [
    "\n",
    "pi = 3.14\n",
    "radius = float(input(\"Enter the radius of the circle: \"))\n",
    "circumference = 2 * pi * radius\n",
    "print(\"The circumference of the circle is:\", circumference)\n"
   ]
  },
  {
   "cell_type": "markdown",
   "metadata": {},
   "source": [
    "3)Write a Python program to calculate the simple interest. Use the formula: \n",
    "𝑺𝒊𝒎𝒑𝒍𝒆 𝑰𝒏𝒕𝒆𝒓𝒆𝒔𝒕 = 𝑷𝒓𝒊𝒏𝒄𝒊𝒑𝒂𝒍 × 𝑹𝒂𝒕𝒆 × 𝑻𝒊𝒎𝒆 \n",
    "Take Principal, Rate, and Time as inputs from the user."
   ]
  },
  {
   "cell_type": "code",
   "execution_count": 14,
   "metadata": {},
   "outputs": [
    {
     "name": "stdout",
     "output_type": "stream",
     "text": [
      "The simple interest is: 0.8\n"
     ]
    }
   ],
   "source": [
    "principal = float(input(\"Enter the principal amount: \"))\n",
    "rate = float(input(\"Enter the rate of interest: \"))\n",
    "time = float(input(\"Enter the time in years: \"))\n",
    "simple_interest = (principal * rate * time) / 100\n",
    "print(\"The simple interest is:\", simple_interest)\n"
   ]
  },
  {
   "cell_type": "markdown",
   "metadata": {},
   "source": [
    "4) Speed of an Object: \n",
    "Write a Python program to calculate the speed of an object. Use the formula: \n",
    "𝑆𝒑𝒆𝒆𝒅 = 𝑫𝒊𝒔𝒕𝒂𝒏𝒄𝒆 / 𝑻𝒊𝒎𝒆\n",
    "Take Distance and Time as inputs from the user."
   ]
  },
  {
   "cell_type": "code",
   "execution_count": 15,
   "metadata": {},
   "outputs": [
    {
     "name": "stdout",
     "output_type": "stream",
     "text": [
      "The speed of the object is: 1.6666666666666667 m/s\n"
     ]
    }
   ],
   "source": [
    "distance = float(input(\"Enter the distance traveled (in meters): \"))\n",
    "time = float(input(\"Enter the time taken (in seconds): \"))\n",
    "speed = distance / time\n",
    "print(\"The speed of the object is:\", speed, \"m/s\")\n"
   ]
  },
  {
   "cell_type": "markdown",
   "metadata": {},
   "source": [
    "5) BMI Calculator: \n",
    "Write a Python program to calculate the Body Mass Index (BMI). Use the formula: \n",
    "BMI = ௐ௘௜௚௛௧(ு௘௜௚௛௧\n",
    "(௄௚\n",
    ").మ\n",
    ")\n",
    " Take Weight (in kilograms) and Height (in meters) as inputs from the user."
   ]
  },
  {
   "cell_type": "code",
   "execution_count": 16,
   "metadata": {},
   "outputs": [
    {
     "name": "stdout",
     "output_type": "stream",
     "text": [
      "Your BMI is: 0.3125\n"
     ]
    }
   ],
   "source": [
    "weight = float(input(\"Enter your weight in kilograms: \"))\n",
    "height = float(input(\"Enter your height in meters: \"))\n",
    "bmi = weight / (height ** 2)\n",
    "print(\"Your BMI is:\", bmi)\n"
   ]
  },
  {
   "cell_type": "markdown",
   "metadata": {},
   "source": [
    "6) Force Using Newton's Second Law: \n",
    "Write a Python program to calculate the force on an object. Use the formula: \n",
    "Take m (mass in kilograms) and a (acceleration in meters/second²) as inputs from the \n",
    "user."
   ]
  },
  {
   "cell_type": "code",
   "execution_count": 18,
   "metadata": {},
   "outputs": [
    {
     "name": "stdout",
     "output_type": "stream",
     "text": [
      "The force on the object is: 35.0 N\n"
     ]
    }
   ],
   "source": [
    "mass = float(input(\"Enter the mass of the object (in kilograms): \"))\n",
    "acceleration = float(input(\"Enter the acceleration (in meters/second²): \"))\n",
    "force = mass * acceleration\n",
    "print(\"The force on the object is:\", force, \"N\")\n"
   ]
  },
  {
   "cell_type": "markdown",
   "metadata": {},
   "source": [
    "7) Compound Interest: \n",
    "Write a Python program to calculate compound interest. Use the formula: \n",
    "Where: \n",
    "A= total amount \n",
    "P = principal amount \n",
    "r = annual interest rate (decimal) \n",
    "n = number of times interest is compounded per year \n",
    "t = time in years \n",
    "Take P, r, n, and t as inputs from the user."
   ]
  },
  {
   "cell_type": "code",
   "execution_count": 19,
   "metadata": {},
   "outputs": [
    {
     "name": "stdout",
     "output_type": "stream",
     "text": [
      "The compound interest is: 786823591438250.5\n"
     ]
    }
   ],
   "source": [
    "P = float(input(\"Enter the principal amount: \"))\n",
    "r = float(input(\"Enter the annual interest rate (decimal): \"))\n",
    "n = int(input(\"Enter the number of times interest is compounded per year: \"))\n",
    "t = float(input(\"Enter the time in years: \"))\n",
    "A = P * (1 + r/n)**(n*t)\n",
    "compound_interest = A - P\n",
    "print(\"The compound interest is:\", compound_interest)\n"
   ]
  },
  {
   "cell_type": "markdown",
   "metadata": {},
   "source": [
    "8) Perimeter of a Triangle: \n",
    "Write a Python program to calculate the perimeter of a triangle. Use the formula: \n",
    "𝑷𝒆𝒓𝒊𝒎𝒆𝒕𝒆𝒓 = 𝒂 + 𝒃 + 𝒄\n",
    "Take a, b, and c (lengths of the three sides) as inputs from the user."
   ]
  },
  {
   "cell_type": "code",
   "execution_count": 20,
   "metadata": {},
   "outputs": [
    {
     "name": "stdout",
     "output_type": "stream",
     "text": [
      "The perimeter of the triangle is: 19.0\n"
     ]
    }
   ],
   "source": [
    "a = float(input(\"Enter the first side of the triangle: \"))\n",
    "b = float(input(\"Enter the second side of the triangle: \"))\n",
    "c = float(input(\"Enter the third side of the triangle: \"))\n",
    "perimeter = a + b + c\n",
    "print(\"The perimeter of the triangle is:\", perimeter)\n"
   ]
  },
  {
   "cell_type": "markdown",
   "metadata": {},
   "source": [
    "9) Volume of a Sphere: \n",
    "Write a Python program to calculate the volume of a sphere. Use the formula: \n",
    "Take r (radius) as input from the user."
   ]
  },
  {
   "cell_type": "code",
   "execution_count": 23,
   "metadata": {},
   "outputs": [
    {
     "name": "stdout",
     "output_type": "stream",
     "text": [
      "The volume of the sphere is: 267.94666666666666\n"
     ]
    }
   ],
   "source": [
    "pi = 3.14\n",
    "radius = float(input(\"Enter the radius of the sphere: \"))\n",
    "volume = (4/3) * pi * radius**3\n",
    "print(\"The volume of the sphere is:\", volume)\n"
   ]
  },
  {
   "cell_type": "markdown",
   "metadata": {},
   "source": [
    "10) Kinetic Energy: \n",
    "Write a Python program to calculate the kinetic energy of an object. Use the formula: \n",
    "\n",
    "Take m (mass in kilograms) and v (velocity in meters/second) as inputs from the user."
   ]
  },
  {
   "cell_type": "code",
   "execution_count": 24,
   "metadata": {},
   "outputs": [
    {
     "name": "stdout",
     "output_type": "stream",
     "text": [
      "The kinetic energy is: 658.125 J\n"
     ]
    }
   ],
   "source": [
    "mass = float(input(\"Enter the mass of the object (in kilograms): \"))\n",
    "velocity = float(input(\"Enter the velocity of the object (in meters/second): \"))\n",
    "kinetic_energy = 0.5 * mass * velocity**2\n",
    "print(\"The kinetic energy is:\", kinetic_energy, \"J\")\n"
   ]
  },
  {
   "cell_type": "markdown",
   "metadata": {},
   "source": [
    "11) Quadratic Equation Roots: \n",
    "Write a Python program to find the roots of a quadratic equation. Use the formula: \n",
    "Take a, b, and c as inputs from the user."
   ]
  },
  {
   "cell_type": "code",
   "execution_count": 1,
   "metadata": {},
   "outputs": [
    {
     "name": "stdout",
     "output_type": "stream",
     "text": [
      "The roots of the equation are: -0.3596117967977924 and -1.3903882032022077\n"
     ]
    }
   ],
   "source": [
    "a = float(input(\"Enter coefficient a: \"))\n",
    "b = float(input(\"Enter coefficient b: \"))\n",
    "c = float(input(\"Enter coefficient c: \"))\n",
    "d = b**2 - 4*a*c\n",
    "if d >= 0:\n",
    "    root1 = (-b +d**0.5) / (2*a)\n",
    "    root2 = (-b -d**0.5) / (2*a)\n",
    "    print(\"The roots of the equation are:\", root1, \"and\", root2)\n",
    "else:\n",
    "    print(\"The equation has no real roots.\")\n"
   ]
  },
  {
   "cell_type": "markdown",
   "metadata": {},
   "source": [
    "12) Temperature Conversion: \n",
    "Write a Python program to convert a temperature from Celsius to Fahrenheit. Use the \n",
    "formula: \n",
    "Take C (temperature in Celsius) as input from the user."
   ]
  },
  {
   "cell_type": "code",
   "execution_count": 26,
   "metadata": {},
   "outputs": [
    {
     "name": "stdout",
     "output_type": "stream",
     "text": [
      "The temperature in Fahrenheit is: 192.2\n"
     ]
    }
   ],
   "source": [
    "celsius = float(input(\"Enter the temperature in Celsius: \"))\n",
    "fahrenheit = (celsius * 9/5) + 32\n",
    "print(\"The temperature in Fahrenheit is:\", fahrenheit)\n"
   ]
  },
  {
   "cell_type": "markdown",
   "metadata": {},
   "source": [
    "13) Gravitational Force: \n",
    "Write a Python program to calculate the gravitational force between two objects. Use \n",
    "the formula \n",
    "\n",
    "m1, m2 are the masses of the objects \n",
    "r = distance between the centers of the objects \n",
    "Take m1, m2 and r as inputs from the user."
   ]
  },
  {
   "cell_type": "code",
   "execution_count": 27,
   "metadata": {},
   "outputs": [
    {
     "name": "stdout",
     "output_type": "stream",
     "text": [
      "The gravitational force is: 2.9297338820301782e-12 N\n"
     ]
    }
   ],
   "source": [
    "G = 6.67430e-11  \n",
    "m1 = float(input(\"Enter the mass of the first object (in kilograms): \"))\n",
    "m2 = float(input(\"Enter the mass of the second object (in kilograms): \"))\n",
    "r = float(input(\"Enter the distance between the centers of the objects (in meters): \"))\n",
    "force = G * (m1 * m2) / r**2\n",
    "print(\"The gravitational force is:\", force, \"N\")\n"
   ]
  },
  {
   "cell_type": "markdown",
   "metadata": {},
   "source": [
    "14) Volume of a Cylinder:\n",
    "Write a Python program to calculate the volume of a cylinder. Use the formula: \n",
    "𝑽𝒐𝒍𝒖𝒎𝒆 = 𝝅𝒓𝟐𝒉\n",
    "Take radius(r) and height(h) as inputs from the user"
   ]
  },
  {
   "cell_type": "code",
   "execution_count": 29,
   "metadata": {},
   "outputs": [
    {
     "name": "stdout",
     "output_type": "stream",
     "text": [
      "The volume of the cylinder is: 113.04\n"
     ]
    }
   ],
   "source": [
    "pi = 3.14\n",
    "radius = float(input(\"Enter the radius of the cylinder: \"))\n",
    "height = float(input(\"Enter the height of the cylinder: \"))\n",
    "volume = pi * radius**2 * height\n",
    "print(\"The volume of the cylinder is:\", volume)\n"
   ]
  },
  {
   "cell_type": "markdown",
   "metadata": {},
   "source": [
    "15) Pressure:\n",
    "Write a Python program to calculate the pressure exerted by a force on a surface. Use \n",
    "\n",
    "P = pressure \n",
    "F = force \n",
    "A = area \n",
    "Take F(force) and A(area) as inputs from the user."
   ]
  },
  {
   "cell_type": "code",
   "execution_count": 30,
   "metadata": {},
   "outputs": [
    {
     "name": "stdout",
     "output_type": "stream",
     "text": [
      "The pressure exerted is: 0.1459227467811159 Pa\n"
     ]
    }
   ],
   "source": [
    "force = float(input(\"Enter the force (in newtons): \"))\n",
    "area = float(input(\"Enter the area (in square meters): \"))\n",
    "pressure = force / area\n",
    "print(\"The pressure exerted is:\", pressure, \"Pa\")\n"
   ]
  },
  {
   "cell_type": "markdown",
   "metadata": {},
   "source": [
    "16) Electric Power:\n",
    "Write a Python program to calculate the electric power consumed. Use the formula: \n",
    "where: \n",
    "P = power \n",
    "V = voltage \n",
    "I = current \n",
    "Take V(voltage) and I(current) as inputs from the user."
   ]
  },
  {
   "cell_type": "code",
   "execution_count": 31,
   "metadata": {},
   "outputs": [
    {
     "name": "stdout",
     "output_type": "stream",
     "text": [
      "The electric power consumed is: 162.0 W\n"
     ]
    }
   ],
   "source": [
    "voltage = float(input(\"Enter the voltage (in volts): \"))\n",
    "current = float(input(\"Enter the current (in amperes): \"))\n",
    "power = voltage * current\n",
    "print(\"The electric power consumed is:\", power, \"W\")\n"
   ]
  },
  {
   "cell_type": "markdown",
   "metadata": {},
   "source": [
    "17) Perimeter of a Circle (Circumference): \n",
    "Write a Python program to calculate the perimeter (circumference) of a circle. Use the \n",
    "formula: \n",
    "Take r (radius) as input from the user."
   ]
  },
  {
   "cell_type": "code",
   "execution_count": 33,
   "metadata": {},
   "outputs": [
    {
     "name": "stdout",
     "output_type": "stream",
     "text": [
      "The perimeter (circumference) of the circle is: 31.400000000000002\n"
     ]
    }
   ],
   "source": [
    "pi = 3.14\n",
    "radius = float(input(\"Enter the radius of the circle: \"))\n",
    "circumference = 2 * pi * radius\n",
    "print(\"The perimeter (circumference) of the circle is:\", circumference)\n"
   ]
  },
  {
   "cell_type": "markdown",
   "metadata": {},
   "source": [
    "18) Future Value in Savings:\n",
    "Write a Python program to calculate the future value of an investment.\n",
    "where: \n",
    "o FV= future value \n",
    "o PV= present value \n",
    "o r= annual interest rate (as a decimal) \n",
    "o t= time in years \n",
    "Take PV, r, and t as inputs from the user."
   ]
  },
  {
   "cell_type": "code",
   "execution_count": 34,
   "metadata": {},
   "outputs": [
    {
     "name": "stdout",
     "output_type": "stream",
     "text": [
      "The future value is: 93312.0\n"
     ]
    }
   ],
   "source": [
    "PV = float(input(\"Enter the present value: \"))\n",
    "r = float(input(\"Enter the annual interest rate (as a decimal): \"))\n",
    "t = float(input(\"Enter the time in years: \"))\n",
    "FV = PV * (1 + r)**t\n",
    "print(\"The future value is:\", FV)\n"
   ]
  },
  {
   "cell_type": "markdown",
   "metadata": {},
   "source": [
    "19) Work Done by a Force:\n",
    "Write a Python program to calculate the work done by a force. Use the formula: \n",
    "where: \n",
    "W = work done \n",
    "f= force \n",
    "d = distance \n",
    "theta = angle between force and direction of movement (in degrees) \n",
    "Take f, d, and θ as inputs from the user."
   ]
  },
  {
   "cell_type": "code",
   "execution_count": null,
   "metadata": {},
   "outputs": [],
   "source": [
    "#nahihoraha"
   ]
  },
  {
   "cell_type": "markdown",
   "metadata": {},
   "source": [
    "20) Heat Transfer:\n",
    "Write a Python program to calculate the amount of heat transferred. Use the formula: \n",
    "𝑄 = 𝑚𝑐 (∆T)\n",
    "where: \n",
    "Q= heat transfer \n",
    "m = mass \n",
    "c = specific heat capacity \n",
    "ΔT \n",
    "Take m, c, T as inputs from the user"
   ]
  },
  {
   "cell_type": "code",
   "execution_count": 35,
   "metadata": {},
   "outputs": [
    {
     "name": "stdout",
     "output_type": "stream",
     "text": [
      "The amount of heat transferred is: 13668.0 J\n"
     ]
    }
   ],
   "source": [
    "mass = float(input(\"Enter the mass (in kilograms): \"))\n",
    "specific_heat = float(input(\"Enter the specific heat capacity (in J/kg°C): \"))\n",
    "temperature_change = float(input(\"Enter the temperature change (in °C): \"))\n",
    "heat_transfer = mass * specific_heat * temperature_change\n",
    "print(\"The amount of heat transferred is:\", heat_transfer, \"J\")\n"
   ]
  }
 ],
 "metadata": {
  "kernelspec": {
   "display_name": "base",
   "language": "python",
   "name": "python3"
  },
  "language_info": {
   "codemirror_mode": {
    "name": "ipython",
    "version": 3
   },
   "file_extension": ".py",
   "mimetype": "text/x-python",
   "name": "python",
   "nbconvert_exporter": "python",
   "pygments_lexer": "ipython3",
   "version": "3.12.7"
  }
 },
 "nbformat": 4,
 "nbformat_minor": 2
}
