{
 "cells": [
  {
   "cell_type": "markdown",
   "metadata": {},
   "source": [
    "### 1. Write a Python program to create a class called \"Person\" with properties for name, age and country. Include a method to display the person's details. Create two instances of the 'Person' class and display their details"
   ]
  },
  {
   "cell_type": "code",
   "execution_count": 16,
   "metadata": {},
   "outputs": [
    {
     "name": "stdout",
     "output_type": "stream",
     "text": [
      "Name: Ali, Age: 25, Country: PAK\n",
      "Name: Bob, Age: 30, Country: UK\n"
     ]
    }
   ],
   "source": [
    "class Person:\n",
    "    def __init__(self, name, age, country):\n",
    "        self.name = name\n",
    "        self.age = age\n",
    "        self.country = country\n",
    "\n",
    "    def display_details(self):\n",
    "        print(f\"Name: {self.name}, Age: {self.age}, Country: {self.country}\")\n",
    "person1 = Person(\"Ali\", 25, \"PAK\")\n",
    "person2 = Person(\"Bob\", 30, \"UK\")\n",
    "person1.display_details()\n",
    "person2.display_details()\n"
   ]
  },
  {
   "cell_type": "markdown",
   "metadata": {},
   "source": [
    "### 2. Write a Python program to create a class called 'Rectangle' with properties for width and height. Include two methods to calculate rectangle area and perimeter. Create an instance of the 'Rectangle' class and calculate its area and perimeter."
   ]
  },
  {
   "cell_type": "code",
   "execution_count": 17,
   "metadata": {},
   "outputs": [
    {
     "name": "stdout",
     "output_type": "stream",
     "text": [
      "Area: 50, Perimeter: 30\n"
     ]
    }
   ],
   "source": [
    "class Rectangle:\n",
    "    def __init__(self, width, height):\n",
    "        self.width = width\n",
    "        self.height = height\n",
    "\n",
    "    def area(self):\n",
    "        return self.width * self.height\n",
    "\n",
    "    def perimeter(self):\n",
    "        return 2 * (self.width + self.height)\n",
    "rect = Rectangle(5, 10)\n",
    "print(f\"Area: {rect.area()}, Perimeter: {rect.perimeter()}\")\n"
   ]
  },
  {
   "cell_type": "markdown",
   "metadata": {},
   "source": [
    "### 3. Write a Python program that creates a class called 'Vehicle' with properties for make, model, and year. Include a method to display vehicle details. Create a subclass called 'Car' that inherits from the 'Vehicle' class and includes an additional property for the number of doors. Override the display method to include the number of doors."
   ]
  },
  {
   "cell_type": "code",
   "execution_count": 18,
   "metadata": {},
   "outputs": [
    {
     "name": "stdout",
     "output_type": "stream",
     "text": [
      "Make: Toyota, Model: Camry, Year: 2022\n",
      "Doors: 4\n"
     ]
    }
   ],
   "source": [
    "\n",
    "class Vehicle:\n",
    "    def __init__(self, make, model, year):\n",
    "        self.make = make\n",
    "        self.model = model\n",
    "        self.year = year\n",
    "\n",
    "    def display_details(self):\n",
    "        print(f\"Make: {self.make}, Model: {self.model}, Year: {self.year}\")\n",
    "\n",
    "class Car(Vehicle):\n",
    "    def __init__(self, make, model, year, doors):\n",
    "        super().__init__(make, model, year)\n",
    "        self.doors = doors\n",
    "\n",
    "    def display_details(self):\n",
    "        super().display_details()\n",
    "        print(f\"Doors: {self.doors}\")\n",
    "car = Car(\"Toyota\", \"Camry\", 2022, 4)\n",
    "car.display_details()\n"
   ]
  },
  {
   "cell_type": "markdown",
   "metadata": {},
   "source": [
    "### 4. Write a Python program that creates a class called \"BankAccount\" with properties for account number and balance. Include methods to deposit and withdraw money from the account. Create some instances of the \"BankAccount\" class, deposit some money, and withdraw a portion of it."
   ]
  },
  {
   "cell_type": "code",
   "execution_count": 19,
   "metadata": {},
   "outputs": [
    {
     "name": "stdout",
     "output_type": "stream",
     "text": [
      "Account Balance: 300\n"
     ]
    }
   ],
   "source": [
    "class BankAccount:\n",
    "    def __init__(self, account_number, balance=0):\n",
    "        self.account_number = account_number\n",
    "        self.balance = balance\n",
    "\n",
    "    def deposit(self, amount):\n",
    "        self.balance += amount\n",
    "\n",
    "    def withdraw(self, amount):\n",
    "        if amount <= self.balance:\n",
    "            self.balance -= amount\n",
    "        else:\n",
    "            print(\"Insufficient balance.\")\n",
    "account1 = BankAccount(123456)\n",
    "account1.deposit(500)\n",
    "account1.withdraw(200)\n",
    "print(f\"Account Balance: {account1.balance}\")\n"
   ]
  },
  {
   "cell_type": "markdown",
   "metadata": {},
   "source": [
    "### 5. Write a Python program that creates a class called 'Shape' with a method to calculate the area. Create two subclasses, 'Circle' and 'Triangle', that inherit from the 'Shape' class and override the area calculation method. Create an instance of the 'Circle' class and calculate its area. Similarly, do the same for the 'Triangle' class."
   ]
  },
  {
   "cell_type": "code",
   "execution_count": 20,
   "metadata": {},
   "outputs": [
    {
     "name": "stdout",
     "output_type": "stream",
     "text": [
      "Circle Area: 153.93804002589985\n",
      "Triangle Area: 25.0\n"
     ]
    }
   ],
   "source": [
    "import math\n",
    "\n",
    "class Shape:\n",
    "    def area(self):\n",
    "        raise NotImplementedError(\"This method should be overridden.\")\n",
    "\n",
    "class Circle(Shape):\n",
    "    def __init__(self, radius):\n",
    "        self.radius = radius\n",
    "\n",
    "    def area(self):\n",
    "        return math.pi * self.radius ** 2\n",
    "\n",
    "class Triangle(Shape):\n",
    "    def __init__(self, base, height):\n",
    "        self.base = base\n",
    "        self.height = height\n",
    "\n",
    "    def area(self):\n",
    "        return 0.5 * self.base * self.height\n",
    "circle = Circle(7)\n",
    "triangle = Triangle(10, 5)\n",
    "print(f\"Circle Area: {circle.area()}\")\n",
    "print(f\"Triangle Area: {triangle.area()}\")\n"
   ]
  },
  {
   "cell_type": "markdown",
   "metadata": {},
   "source": [
    "### 6. Write a Python program that creates a class called 'Employee' with properties for name and salary. Include a method to calculate annual salary. Create a subclass called 'Manager' that inherits from the 'Employee' class and adds an additional property for department. Override the annual salary calculation method to include bonuses for managers. Create two instances of the 'Manager' class and calculate their annual salary."
   ]
  },
  {
   "cell_type": "code",
   "execution_count": 21,
   "metadata": {},
   "outputs": [
    {
     "name": "stdout",
     "output_type": "stream",
     "text": [
      "ahmed's Annual Salary: 65000\n",
      "Eman's Annual Salary: 77000\n"
     ]
    }
   ],
   "source": [
    "class Employee:\n",
    "    def __init__(self, name, salary):\n",
    "        self.name = name\n",
    "        self.salary = salary\n",
    "\n",
    "    def annual_salary(self):\n",
    "        return self.salary * 12\n",
    "\n",
    "class Manager(Employee):\n",
    "    def __init__(self, name, salary, department):\n",
    "        super().__init__(name, salary)\n",
    "        self.department = department\n",
    "\n",
    "    def annual_salary(self):\n",
    "        bonus = 5000\n",
    "        return super().annual_salary() + bonus\n",
    "manager1 = Manager(\"ahmed\", 5000, \"HR\")\n",
    "manager2 = Manager(\"Eman\", 6000, \"IT\")\n",
    "print(f\"{manager1.name}'s Annual Salary: {manager1.annual_salary()}\")\n",
    "print(f\"{manager2.name}'s Annual Salary: {manager2.annual_salary()}\")\n"
   ]
  },
  {
   "cell_type": "markdown",
   "metadata": {},
   "source": [
    "### 7. Write a Python program that creates a class `Book` with properties for title, author, and publication year. Include a method to display book details. Create a subclass called 'Ebook' that inherits from the 'Book' class and includes an additional property for book price. Override the display method to include the book price. Create an instance of the 'Ebook' class and display its details."
   ]
  },
  {
   "cell_type": "code",
   "execution_count": 22,
   "metadata": {},
   "outputs": [
    {
     "name": "stdout",
     "output_type": "stream",
     "text": [
      "Title: Python Programming, Author: John Doe, Year: 2021\n",
      "Price: $20\n"
     ]
    }
   ],
   "source": [
    "class Book:\n",
    "    def __init__(self, title, author, publication_year):\n",
    "        self.title = title\n",
    "        self.author = author\n",
    "        self.publication_year = publication_year\n",
    "\n",
    "    def display_details(self):\n",
    "        print(f\"Title: {self.title}, Author: {self.author}, Year: {self.publication_year}\")\n",
    "\n",
    "class Ebook(Book):\n",
    "    def __init__(self, title, author, publication_year, price):\n",
    "        super().__init__(title, author, publication_year)\n",
    "        self.price = price\n",
    "\n",
    "    def display_details(self):\n",
    "        super().display_details()\n",
    "        print(f\"Price: ${self.price}\")\n",
    "ebook = Ebook(\"Python Programming\", \"John Doe\", 2021, 20)\n",
    "ebook.display_details()\n"
   ]
  },
  {
   "cell_type": "markdown",
   "metadata": {},
   "source": [
    "### 8. Write a Python program that creates a class called 'Animal' with properties for species and sound. Include a method to make the animal's sound. Create a subclass called 'Dog' that inherits from the 'Animal' class and adds an additional property for color. Override the make sound method to include the dog's color. Create an instance of the 'Dog' class and make it make its sound."
   ]
  },
  {
   "cell_type": "code",
   "execution_count": 23,
   "metadata": {},
   "outputs": [
    {
     "name": "stdout",
     "output_type": "stream",
     "text": [
      "The brown dog goes 'woof'\n"
     ]
    }
   ],
   "source": [
    "class Animal:\n",
    "    def __init__(self, species, sound):\n",
    "        self.species = species\n",
    "        self.sound = sound\n",
    "\n",
    "    def make_sound(self):\n",
    "        print(f\"The {self.species} goes '{self.sound}'\")\n",
    "\n",
    "class Dog(Animal):\n",
    "    def __init__(self, species, sound, color):\n",
    "        super().__init__(species, sound)\n",
    "        self.color = color\n",
    "\n",
    "    def make_sound(self):\n",
    "        print(f\"The {self.color} {self.species} goes '{self.sound}'\")\n",
    "dog = Dog(\"dog\", \"woof\", \"brown\")\n",
    "dog.make_sound()\n"
   ]
  },
  {
   "cell_type": "markdown",
   "metadata": {},
   "source": [
    "### 9. Write a Python program that creates a class called Bank with properties for bank names and branches. Include methods to add a branch, remove a branch, and display all branches. Create an instance of the Bank class and perform operations to add and remove branches."
   ]
  },
  {
   "cell_type": "code",
   "execution_count": 24,
   "metadata": {},
   "outputs": [
    {
     "name": "stdout",
     "output_type": "stream",
     "text": [
      "Branches of National Bank: Main\n"
     ]
    }
   ],
   "source": [
    "class Bank:\n",
    "    def __init__(self, name):\n",
    "        self.name = name\n",
    "        self.branches = []\n",
    "\n",
    "    def add_branch(self, branch_name):\n",
    "        self.branches.append(branch_name)\n",
    "\n",
    "    def remove_branch(self, branch_name):\n",
    "        if branch_name in self.branches:\n",
    "            self.branches.remove(branch_name)\n",
    "\n",
    "    def display_branches(self):\n",
    "        print(f\"Branches of {self.name}: {', '.join(self.branches)}\")\n",
    "bank = Bank(\"National Bank\")\n",
    "bank.add_branch(\"Main\")\n",
    "bank.add_branch(\"City\")\n",
    "bank.remove_branch(\"City\")\n",
    "bank.display_branches()\n"
   ]
  },
  {
   "cell_type": "markdown",
   "metadata": {},
   "source": [
    "### 10. Write a Python program that creates a class called Product with properties for product ID, name, and price. Include a method to calculate the total price by multiplying the price by the quantity. Create a subclass called PersonalCareProduct that inherits from the Product class and adds an additional property for the warranty period. Override the total price calculation method to include the warranty period. Create an instance of the PersonalCareProduct class and calculate its total price."
   ]
  },
  {
   "cell_type": "code",
   "execution_count": 25,
   "metadata": {},
   "outputs": [
    {
     "name": "stdout",
     "output_type": "stream",
     "text": [
      "Total Price: 35\n"
     ]
    }
   ],
   "source": [
    "class Product:\n",
    "    def __init__(self, product_id, name, price):\n",
    "        self.product_id = product_id\n",
    "        self.name = name\n",
    "        self.price = price\n",
    "\n",
    "    def total_price(self, quantity):\n",
    "        return self.price * quantity\n",
    "\n",
    "class PersonalCareProduct(Product):\n",
    "    def __init__(self, product_id, name, price, warranty_period):\n",
    "        super().__init__(product_id, name, price)\n",
    "        self.warranty_period = warranty_period\n",
    "\n",
    "    def total_price(self, quantity):\n",
    "        base_price = super().total_price(quantity)\n",
    "        return base_price + self.warranty_period * 10\n",
    "product = PersonalCareProduct(1, \"Shampoo\", 5, 2)\n",
    "print(f\"Total Price: {product.total_price(3)}\")\n"
   ]
  },
  {
   "cell_type": "markdown",
   "metadata": {},
   "source": [
    "### 11. Write a Python program that creates a class called BankAccount with properties for account number, account holder name, and balance. Include methods to deposit, withdraw, and transfer money between accounts. Create multiple instances of the BankAccount class and perform operations such as depositing, withdrawing, and transferring money."
   ]
  },
  {
   "cell_type": "code",
   "execution_count": 26,
   "metadata": {},
   "outputs": [
    {
     "name": "stdout",
     "output_type": "stream",
     "text": [
      "Alice's Balance: 300\n",
      "Bob's Balance: 500\n"
     ]
    }
   ],
   "source": [
    "class BankAccount:\n",
    "    def __init__(self, account_number, name, balance=0):\n",
    "        self.account_number = account_number\n",
    "        self.name = name\n",
    "        self.balance = balance\n",
    "\n",
    "    def deposit(self, amount):\n",
    "        self.balance += amount\n",
    "\n",
    "    def withdraw(self, amount):\n",
    "        if amount <= self.balance:\n",
    "            self.balance -= amount\n",
    "        else:\n",
    "            print(\"Insufficient balance.\")\n",
    "\n",
    "    def transfer(self, amount, recipient_account):\n",
    "        if amount <= self.balance:\n",
    "            self.withdraw(amount)\n",
    "            recipient_account.deposit(amount)\n",
    "        else:\n",
    "            print(\"Insufficient balance for transfer.\")\n",
    "acc1 = BankAccount(123, \"Ali\", 500)\n",
    "acc2 = BankAccount(456, \"Babar\", 300)\n",
    "acc1.transfer(200, acc2)\n",
    "print(f\"Alice's Balance: {acc1.balance}\")\n",
    "print(f\"Bob's Balance: {acc2.balance}\")\n"
   ]
  },
  {
   "cell_type": "markdown",
   "metadata": {},
   "source": [
    "### 12. Write a Python program that creates a class called University with properties for university name and departments. Include methods to add a department, remove a department, and display all departments. Create an instance of the University class and add and remove departments."
   ]
  },
  {
   "cell_type": "code",
   "execution_count": 27,
   "metadata": {},
   "outputs": [
    {
     "name": "stdout",
     "output_type": "stream",
     "text": [
      "Departments of Tech University: Engineering\n"
     ]
    }
   ],
   "source": [
    "class University:\n",
    "    def __init__(self, name):\n",
    "        self.name = name\n",
    "        self.departments = []\n",
    "\n",
    "    def add_department(self, department_name):\n",
    "        self.departments.append(department_name)\n",
    "\n",
    "    def remove_department(self, department_name):\n",
    "        if department_name in self.departments:\n",
    "            self.departments.remove(department_name)\n",
    "\n",
    "    def display_departments(self):\n",
    "        print(f\"Departments of {self.name}: {', '.join(self.departments)}\")\n",
    "uni = University(\"Tech University\")\n",
    "uni.add_department(\"Engineering\")\n",
    "uni.add_department(\"Sciences\")\n",
    "uni.remove_department(\"Sciences\")\n",
    "uni.display_departments()\n"
   ]
  }
 ],
 "metadata": {
  "kernelspec": {
   "display_name": "base",
   "language": "python",
   "name": "python3"
  },
  "language_info": {
   "codemirror_mode": {
    "name": "ipython",
    "version": 3
   },
   "file_extension": ".py",
   "mimetype": "text/x-python",
   "name": "python",
   "nbconvert_exporter": "python",
   "pygments_lexer": "ipython3",
   "version": "3.12.7"
  }
 },
 "nbformat": 4,
 "nbformat_minor": 2
}
