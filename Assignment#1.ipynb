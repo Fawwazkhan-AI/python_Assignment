{
 "cells": [
  {
   "cell_type": "markdown",
   "metadata": {
    "id": "CUdxU51J52Jc"
   },
   "source": [
    "# Topic: print()"
   ]
  },
  {
   "cell_type": "markdown",
   "metadata": {
    "id": "O4XtVMeN52Ji"
   },
   "source": [
    "1) Using the python print function print any string value, integer value, boolean value, float value in single print command"
   ]
  },
  {
   "cell_type": "code",
   "execution_count": 42,
   "metadata": {},
   "outputs": [
    {
     "name": "stdout",
     "output_type": "stream",
     "text": [
      "Hello, World! 42 True 3.14\n"
     ]
    }
   ],
   "source": [
    "print(\"Hello, World!\", 42, True, 3.14)\n"
   ]
  },
  {
   "cell_type": "markdown",
   "metadata": {
    "id": "iNinlTd052Jr"
   },
   "source": [
    "2) Using the python print function print hyphon(-) separated any string value, integer value, boolean value, float value in single print command"
   ]
  },
  {
   "cell_type": "code",
   "execution_count": 43,
   "metadata": {},
   "outputs": [
    {
     "name": "stdout",
     "output_type": "stream",
     "text": [
      "Hello, World!-42-True-3.14\n"
     ]
    }
   ],
   "source": [
    "print(\"Hello, World!\", 42, True, 3.14, sep='-')\n"
   ]
  },
  {
   "cell_type": "markdown",
   "metadata": {
    "id": "4fNVS99O52Jt"
   },
   "source": [
    "3) Using the python print function print any string value, integer value, boolean value, float value in separate print command.\n",
    "But every value must be space separated and in single line"
   ]
  },
  {
   "cell_type": "code",
   "execution_count": 44,
   "metadata": {},
   "outputs": [
    {
     "name": "stdout",
     "output_type": "stream",
     "text": [
      "Hello, World! 42 True 3.14\n"
     ]
    }
   ],
   "source": [
    "print(\"Hello, World!\", end=' ')\n",
    "print(42, end=' ')\n",
    "print(True, end=' ')\n",
    "print(3.14)\n"
   ]
  },
  {
   "cell_type": "markdown",
   "metadata": {
    "id": "akEUFstT52Jv"
   },
   "source": [
    "4) Can a python print function take no value to print???"
   ]
  },
  {
   "cell_type": "code",
   "execution_count": 45,
   "metadata": {},
   "outputs": [
    {
     "name": "stdout",
     "output_type": "stream",
     "text": [
      "\n"
     ]
    }
   ],
   "source": [
    "print() \n"
   ]
  },
  {
   "cell_type": "markdown",
   "metadata": {
    "id": "vFPOFKW_52Jx"
   },
   "source": [
    "# TOPIC :Variables in Python Operators"
   ]
  },
  {
   "cell_type": "markdown",
   "metadata": {
    "id": "AzBzVODl52Jy"
   },
   "source": [
    "5) One of my friends name is Mr. Ahmed. He is 30 years old.  He is a lawer by profession. He has done his bachelors in law in the year 2005. He is working with a reputable law firm 'The Himalya Associates' in Karachi since 2015.\n",
    "He is a handsome lawer with height of 5.10 feets and weight 70600g. His monthly income is Rs. 200k PKR.\n",
    "\n",
    "Note: Create variables from above text and also assign values from the text.  "
   ]
  },
  {
   "cell_type": "code",
   "execution_count": 46,
   "metadata": {},
   "outputs": [
    {
     "name": "stdout",
     "output_type": "stream",
     "text": [
      "Name: Mr. Ahmed\n",
      "Age: 30\n",
      "Profession: Lawyer\n",
      "Education: Bachelors in Law\n",
      "Graduation Year: 2005\n",
      "Law Firm: The Himalya Associates\n",
      "City: Karachi\n",
      "Working Since: 2015\n",
      "Height (feet): 5.1\n",
      "Weight (grams): 70600\n",
      "Monthly Income (PKR): 200000\n"
     ]
    }
   ],
   "source": [
    "# Variables from the provided information\n",
    "friend_name = \"Mr. Ahmed\"\n",
    "age = 30\n",
    "profession = \"Lawyer\"\n",
    "education = \"Bachelors in Law\"\n",
    "graduation_year = 2005\n",
    "law_firm = \"The Himalya Associates\"\n",
    "city = \"Karachi\"\n",
    "start_year = 2015\n",
    "height = 5.10  # in feet\n",
    "weight = 70600  # in grams\n",
    "monthly_income = 200000  # in PKR\n",
    "\n",
    "# Print the variables to verify\n",
    "print(\"Name:\", friend_name)\n",
    "print(\"Age:\", age)\n",
    "print(\"Profession:\", profession)\n",
    "print(\"Education:\", education)\n",
    "print(\"Graduation Year:\", graduation_year)\n",
    "print(\"Law Firm:\", law_firm)\n",
    "print(\"City:\", city)\n",
    "print(\"Working Since:\", start_year)\n",
    "print(\"Height (feet):\", height)\n",
    "print(\"Weight (grams):\", weight)\n",
    "print(\"Monthly Income (PKR):\", monthly_income)\n"
   ]
  },
  {
   "cell_type": "markdown",
   "metadata": {
    "id": "Uaf--v5S52J0"
   },
   "source": [
    "6)How many years has been to Mr. Ahmed after his bachelors degree? Create a variable that hold current year value and then subtract it from his passout year"
   ]
  },
  {
   "cell_type": "code",
   "execution_count": 47,
   "metadata": {},
   "outputs": [
    {
     "name": "stdout",
     "output_type": "stream",
     "text": [
      "Years since Mr. Ahmed's graduation: 19\n"
     ]
    }
   ],
   "source": [
    "\n",
    "current_year = 2024 \n",
    "graduation_year = 2005\n",
    "years_since_graduation = current_year - graduation_year\n",
    "print(\"Years since Mr. Ahmed's graduation:\", years_since_graduation)\n"
   ]
  },
  {
   "cell_type": "markdown",
   "metadata": {
    "id": "SAQtVyvD52J1"
   },
   "source": [
    "7) How many years has Mr. Ahmed been working with law firm 'The Himalya Associates'. Create necesary variables and print the correct number of years in working in the firm"
   ]
  },
  {
   "cell_type": "code",
   "execution_count": 48,
   "metadata": {},
   "outputs": [
    {
     "name": "stdout",
     "output_type": "stream",
     "text": [
      "Years Mr. Ahmed has been working with 'The Himalya Associates': 9\n"
     ]
    }
   ],
   "source": [
    "\n",
    "start_year = 2015\n",
    "\n",
    "years_in_firm = current_year - start_year\n",
    "print(\"Years Mr. Ahmed has been working with 'The Himalya Associates':\", years_in_firm)\n"
   ]
  },
  {
   "cell_type": "markdown",
   "metadata": {
    "id": "Gnk1kIUj52J3"
   },
   "source": [
    "8)Convert the monthly income of Mr. Ahmed in dollars.  Create necesary variables and print the income in dollars."
   ]
  },
  {
   "cell_type": "code",
   "execution_count": 49,
   "metadata": {},
   "outputs": [
    {
     "name": "stdout",
     "output_type": "stream",
     "text": [
      "Mr. Ahmed's monthly income in USD: 714.2857142857143\n"
     ]
    }
   ],
   "source": [
    "monthly_income_pkr = 200000 \n",
    "exchange_rate = 280 \n",
    "monthly_income_usd = monthly_income_pkr / exchange_rate\n",
    "print(\"Mr. Ahmed's monthly income in USD:\", monthly_income_usd)\n",
    "\n"
   ]
  },
  {
   "cell_type": "markdown",
   "metadata": {
    "id": "Adx4oblF52J4"
   },
   "source": [
    "9) Check if the income in dollars is a float or integer value. if it is float, re-write the code so that income gets converted in integer. print the income in integer type value"
   ]
  },
  {
   "cell_type": "code",
   "execution_count": 50,
   "metadata": {},
   "outputs": [
    {
     "name": "stdout",
     "output_type": "stream",
     "text": [
      "Income in USD is a float: 714.2857142857143\n",
      "Income in USD converted to integer: 714\n"
     ]
    }
   ],
   "source": [
    "\n",
    "monthly_income_pkr = 200000 \n",
    "exchange_rate = 280 \n",
    "monthly_income_usd = monthly_income_pkr / exchange_rate\n",
    "if isinstance(monthly_income_usd, float):\n",
    "    print(\"Income in USD is a float:\", monthly_income_usd)\n",
    " \n",
    "    monthly_income_usd = int(monthly_income_usd)\n",
    "    print(\"Income in USD converted to integer:\", monthly_income_usd)\n",
    "else:\n",
    "    print(\"Income in USD is already an integer:\", monthly_income_usd)\n"
   ]
  },
  {
   "cell_type": "markdown",
   "metadata": {
    "id": "NcYepWgZ52J5"
   },
   "source": [
    "10) Print the type of Mr. Ahmed's weight. Convert the weight of Mr. Ahmed in kg so that weight must be a integer value."
   ]
  },
  {
   "cell_type": "code",
   "execution_count": 51,
   "metadata": {},
   "outputs": [
    {
     "name": "stdout",
     "output_type": "stream",
     "text": [
      "Type of Mr. Ahmed's weight (in grams): <class 'int'>\n",
      "Mr. Ahmed's weight in kilograms: 70\n",
      "Type of Mr. Ahmed's weight (in kilograms): <class 'int'>\n"
     ]
    }
   ],
   "source": [
    "# Variables\n",
    "weight_grams = 70600\n",
    "print(\"Type of Mr. Ahmed's weight (in grams):\", type(weight_grams))\n",
    "weight_kg = weight_grams / 1000 \n",
    "weight_kg = int(weight_kg)\n",
    "print(\"Mr. Ahmed's weight in kilograms:\", weight_kg)\n",
    "print(\"Type of Mr. Ahmed's weight (in kilograms):\", type(weight_kg))\n"
   ]
  },
  {
   "cell_type": "markdown",
   "metadata": {},
   "source": [
    "#11) print the year of birth of Mr. Ahmed."
   ]
  },
  {
   "cell_type": "code",
   "execution_count": null,
   "metadata": {
    "id": "05FU1XHw52J7"
   },
   "outputs": [
    {
     "data": {
      "text/plain": [
       "1994"
      ]
     },
     "execution_count": 52,
     "metadata": {},
     "output_type": "execute_result"
    }
   ],
   "source": [
    "\n",
    "birth_year = current_year - age\n",
    "birth_year"
   ]
  },
  {
   "cell_type": "markdown",
   "metadata": {
    "id": "eWySSgh552J8"
   },
   "source": [
    "12) Can Rs. 100 be divided equally among 6 students?\n",
    "HINT: % operator (modulo)"
   ]
  },
  {
   "cell_type": "code",
   "execution_count": 1,
   "metadata": {
    "id": "RYc0Ks7g52J-",
    "outputId": "0e2425ca-fbed-4c24-b659-e52ef2d0674e"
   },
   "outputs": [
    {
     "data": {
      "text/plain": [
       "2"
      ]
     },
     "execution_count": 1,
     "metadata": {},
     "output_type": "execute_result"
    }
   ],
   "source": [
    "100%6\n",
    "2"
   ]
  },
  {
   "cell_type": "code",
   "execution_count": null,
   "metadata": {},
   "outputs": [],
   "source": []
  },
  {
   "cell_type": "code",
   "execution_count": null,
   "metadata": {},
   "outputs": [],
   "source": []
  }
 ],
 "metadata": {
  "colab": {
   "provenance": []
  },
  "kernelspec": {
   "display_name": "base",
   "language": "python",
   "name": "python3"
  },
  "language_info": {
   "codemirror_mode": {
    "name": "ipython",
    "version": 3
   },
   "file_extension": ".py",
   "mimetype": "text/x-python",
   "name": "python",
   "nbconvert_exporter": "python",
   "pygments_lexer": "ipython3",
   "version": "3.12.7"
  }
 },
 "nbformat": 4,
 "nbformat_minor": 1
}
