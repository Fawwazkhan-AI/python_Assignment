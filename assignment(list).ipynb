{
 "cells": [
  {
   "cell_type": "markdown",
   "metadata": {},
   "source": [
    "# 1. Write a program that accepts a list from user and print the alternate element of list\n"
   ]
  },
  {
   "cell_type": "code",
   "execution_count": 1,
   "metadata": {},
   "outputs": [
    {
     "name": "stdout",
     "output_type": "stream",
     "text": [
      "Enter a list of elements separated by spaces: 32 3125 2356 23 231\n",
      "Alternate elements: ['32', '2356', '231']\n"
     ]
    }
   ],
   "source": [
    "user_input = input(\"Enter a list of elements separated by spaces: \")\n",
    "elements = user_input.split()\n",
    "alternate = elements[::2]\n",
    "print(\"Alternate elements:\", alternate)\n"
   ]
  },
  {
   "cell_type": "markdown",
   "metadata": {},
   "source": [
    "# 2. Write a program that accepts a list from user. Your program should reverse the content of list and\n",
    "display it. Do not use reverse() method. \n"
   ]
  },
  {
   "cell_type": "code",
   "execution_count": 1,
   "metadata": {},
   "outputs": [
    {
     "name": "stdout",
     "output_type": "stream",
     "text": [
      "Enter a list of elements separated by spaces: 243 2123 1324 123 123 234 234 54\n",
      "Reversed list: ['54', '234', '234', '123', '123', '1324', '2123', '243']\n"
     ]
    }
   ],
   "source": [
    "user_input = input(\"Enter a list of elements separated by spaces: \")\n",
    "elements = user_input.split()\n",
    "reversed_elements = elements[::-1]\n",
    "print(\"Reversed list:\", reversed_elements)\n"
   ]
  },
  {
   "cell_type": "markdown",
   "metadata": {},
   "source": [
    "#  3. Find and display the largest number of a list without using built-in function max(). Your program\n",
    "should ask the user to input values in list from keyboard. \n"
   ]
  },
  {
   "cell_type": "code",
   "execution_count": 2,
   "metadata": {},
   "outputs": [
    {
     "name": "stdout",
     "output_type": "stream",
     "text": [
      "Enter a list of numbers separated by spaces: 45 47 2  84 6 8 4  74 4  7  4 76 4\n",
      "The largest number is: 84\n"
     ]
    }
   ],
   "source": [
    "user_input = input(\"Enter a list of numbers separated by spaces: \")\n",
    "numbers = list(map(int, user_input.split()))\n",
    "largest = numbers[0]\n",
    "for num in numbers:\n",
    "    if num > largest:\n",
    "        largest = num\n",
    "print(\"The largest number is:\", largest)\n"
   ]
  },
  {
   "cell_type": "markdown",
   "metadata": {},
   "source": [
    "#  4. Write a program that rotates the element of a list so that the element at the first index moves to the\n",
    "second index, the element in the second index moves to the third index, etc., and the element in the last\n",
    "index moves to the first index. "
   ]
  },
  {
   "cell_type": "code",
   "execution_count": 3,
   "metadata": {},
   "outputs": [
    {
     "name": "stdout",
     "output_type": "stream",
     "text": [
      "Enter a list of elements separated by spaces: 464 456 4 64 947 64 89 46 7\n",
      "Rotated list: ['7', '464', '456', '4', '64', '947', '64', '89', '46']\n"
     ]
    }
   ],
   "source": [
    "user_input = input(\"Enter a list of elements separated by spaces: \")\n",
    "elements = user_input.split()\n",
    "# Rotate the list (shift all elements to the right)\n",
    "rotated = [elements[-1]] + elements[:-1]\n",
    "print(\"Rotated list:\", rotated)\n"
   ]
  },
  {
   "cell_type": "markdown",
   "metadata": {},
   "source": [
    "# 5. Write a program that input a string and ask user to delete a given word from a string. \n"
   ]
  },
  {
   "cell_type": "code",
   "execution_count": 7,
   "metadata": {},
   "outputs": [
    {
     "name": "stdout",
     "output_type": "stream",
     "text": [
      "Enter a string: 23 42 24 56 767 789 90 123 67\n",
      "Enter the word to delete: 24\n",
      "Updated string: 23 42 56 767 789 90 123 67\n"
     ]
    }
   ],
   "source": [
    "user_input = input(\"Enter a string: \")\n",
    "word_to_delete = input(\"Enter the word to delete: \")\n",
    "words = user_input.split()\n",
    "# Remove all occurrences of the word\n",
    "filtered_words = [word for word in words if word != word_to_delete]\n",
    "result = \" \".join(filtered_words)\n",
    "print(\"Updated string:\", result)\n",
    "\n"
   ]
  },
  {
   "cell_type": "markdown",
   "metadata": {},
   "source": [
    "# 6. Write a program that reads a string from the user containing a date in the form mm/dd/yyyy. It\n",
    "should print the date in the form March 12, 2021. \n"
   ]
  },
  {
   "cell_type": "code",
   "execution_count": 8,
   "metadata": {},
   "outputs": [
    {
     "name": "stdout",
     "output_type": "stream",
     "text": [
      "Enter a date (mm/dd/yyyy): 03/16/2005\n",
      "Formatted date: March 16, 2005\n"
     ]
    }
   ],
   "source": [
    "import calendar\n",
    "\n",
    "date_input = input(\"Enter a date (mm/dd/yyyy): \")\n",
    "month, day, year = date_input.split('/')\n",
    "month_name = calendar.month_name[int(month)]\n",
    "formatted_date = f\"{month_name} {int(day)}, {year}\"\n",
    "print(\"Formatted date:\", formatted_date)\n"
   ]
  },
  {
   "cell_type": "markdown",
   "metadata": {},
   "source": [
    "# 7. Write a program with a function that accepts a string from keyboard and create a new string after\n",
    "converting character of each word capitalized. For instance, if the sentence is \"stop and smell the roses.\"\n",
    "the output should be \"Stop And Smell The Roses\" \n"
   ]
  },
  {
   "cell_type": "code",
   "execution_count": 9,
   "metadata": {},
   "outputs": [
    {
     "name": "stdout",
     "output_type": "stream",
     "text": [
      "Enter a sentence: my name is fawwaz khan\n",
      "Capitalized sentence: My Name Is Fawwaz Khan\n"
     ]
    }
   ],
   "source": [
    "user_input = input(\"Enter a sentence: \")\n",
    "capitalized_sentence = \" \".join([word.capitalize() for word in user_input.split()])\n",
    "print(\"Capitalized sentence:\", capitalized_sentence)\n"
   ]
  },
  {
   "cell_type": "markdown",
   "metadata": {},
   "source": [
    "# 8. Find the sum of each row of matrix of size m x n. For example for the following matrix output will be\n",
    "like this :\n",
    "Sum of row 1 = 32\n",
    "Sum of row 2 = 31\n",
    "Sum of row 3 = 63 \n"
   ]
  },
  {
   "cell_type": "code",
   "execution_count": 10,
   "metadata": {},
   "outputs": [
    {
     "name": "stdout",
     "output_type": "stream",
     "text": [
      "Enter number of rows: 3\n",
      "Enter number of columns: 4\n",
      "Enter the elements row by row:\n",
      "2 11 7 12\n",
      "5 2 9 15\n",
      "8 3 10 42\n",
      "Sum of row 1 = 32\n",
      "Sum of row 2 = 31\n",
      "Sum of row 3 = 63\n"
     ]
    }
   ],
   "source": [
    "m = int(input(\"Enter number of rows: \"))\n",
    "n = int(input(\"Enter number of columns: \"))\n",
    "matrix = []\n",
    "\n",
    "print(\"Enter the elements row by row:\")\n",
    "for i in range(m):\n",
    "    row = list(map(int, input().split()))\n",
    "    matrix.append(row)\n",
    "\n",
    "for i in range(m):\n",
    "    row_sum = sum(matrix[i])\n",
    "    print(f\"Sum of row {i + 1} = {row_sum}\")\n"
   ]
  },
  {
   "cell_type": "markdown",
   "metadata": {},
   "source": [
    "# 9. Write a program to add two matrices of size n x m. "
   ]
  },
  {
   "cell_type": "code",
   "execution_count": 11,
   "metadata": {},
   "outputs": [
    {
     "name": "stdout",
     "output_type": "stream",
     "text": [
      "Enter number of rows: 2\n",
      "Enter number of columns: 3\n",
      "Enter elements of first matrix:\n",
      "2 4 6\n",
      "23 56 9\n",
      "Enter elements of second matrix:\n",
      "23 57 94\n",
      "12 34 678\n",
      "Resultant Matrix after addition:\n",
      "[25, 61, 100]\n",
      "[35, 90, 687]\n"
     ]
    }
   ],
   "source": [
    "m = int(input(\"Enter number of rows: \"))\n",
    "n = int(input(\"Enter number of columns: \"))\n",
    "\n",
    "print(\"Enter elements of first matrix:\")\n",
    "matrix1 = [list(map(int, input().split())) for _ in range(m)]\n",
    "\n",
    "print(\"Enter elements of second matrix:\")\n",
    "matrix2 = [list(map(int, input().split())) for _ in range(m)]\n",
    "\n",
    "result_matrix = []\n",
    "for i in range(m):\n",
    "    row_sum = [matrix1[i][j] + matrix2[i][j] for j in range(n)]\n",
    "    result_matrix.append(row_sum)\n",
    "\n",
    "print(\"Resultant Matrix after addition:\")\n",
    "for row in result_matrix:\n",
    "    print(row)\n"
   ]
  },
  {
   "cell_type": "markdown",
   "metadata": {},
   "source": [
    "# 10. Write a program to multiply two matrices "
   ]
  },
  {
   "cell_type": "code",
   "execution_count": 12,
   "metadata": {},
   "outputs": [
    {
     "name": "stdout",
     "output_type": "stream",
     "text": [
      "Enter number of rows of first matrix: 3 \n",
      "Enter number of columns of first matrix: 1\n",
      "Enter elements of first matrix:\n",
      "45\n",
      "34\n",
      "30\n",
      "Enter number of rows of second matrix: 3\n",
      "Enter number of columns of second matrix: 1\n",
      "Enter elements of second matrix:\n",
      "23\n",
      "56\n",
      "7\n",
      "Matrix multiplication is not possible.\n"
     ]
    }
   ],
   "source": [
    "m1 = int(input(\"Enter number of rows of first matrix: \"))\n",
    "n1 = int(input(\"Enter number of columns of first matrix: \"))\n",
    "\n",
    "print(\"Enter elements of first matrix:\")\n",
    "matrix1 = [list(map(int, input().split())) for _ in range(m1)]\n",
    "\n",
    "m2 = int(input(\"Enter number of rows of second matrix: \"))\n",
    "n2 = int(input(\"Enter number of columns of second matrix: \"))\n",
    "\n",
    "print(\"Enter elements of second matrix:\")\n",
    "matrix2 = [list(map(int, input().split())) for _ in range(m2)]\n",
    "\n",
    "if n1 != m2:\n",
    "    print(\"Matrix multiplication is not possible.\")\n",
    "else:\n",
    "    result_matrix = [[0 for _ in range(n2)] for _ in range(m1)]\n",
    "\n",
    "    # Matrix multiplication\n",
    "    for i in range(m1):\n",
    "        for j in range(n2):\n",
    "            for k in range(n1):\n",
    "                result_matrix[i][j] += matrix1[i][k] * matrix2[k][j]\n",
    "\n",
    "    print(\"Resultant Matrix after multiplication:\")\n",
    "    for row in result_matrix:\n",
    "        print(row)\n"
   ]
  },
  {
   "cell_type": "code",
   "execution_count": null,
   "metadata": {},
   "outputs": [],
   "source": []
  }
 ],
 "metadata": {
  "kernelspec": {
   "display_name": "Python 3",
   "language": "python",
   "name": "python3"
  },
  "language_info": {
   "codemirror_mode": {
    "name": "ipython",
    "version": 3
   },
   "file_extension": ".py",
   "mimetype": "text/x-python",
   "name": "python",
   "nbconvert_exporter": "python",
   "pygments_lexer": "ipython3",
   "version": "3.6.5"
  }
 },
 "nbformat": 4,
 "nbformat_minor": 2
}
