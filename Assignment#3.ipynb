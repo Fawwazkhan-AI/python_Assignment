{
 "cells": [
  {
   "cell_type": "markdown",
   "metadata": {},
   "source": [
    "1.Check Discount Eligibility:\n",
    "\n",
    "Write a program to check if a customer is eligible for a discount. If the total purchase is more than $100, apply a 10% discount and display the final price. Otherwise, display the total price as it is."
   ]
  },
  {
   "cell_type": "code",
   "execution_count": 4,
   "metadata": {},
   "outputs": [
    {
     "name": "stdout",
     "output_type": "stream",
     "text": [
      "250\n",
      "Final Price after 10% discount: $225.0\n"
     ]
    }
   ],
   "source": [
    "total_purchase = int(input(\"Enter the total purchase amount: \"))\n",
    "if total_purchase > 100:\n",
    "    discounted_price = total_purchase * 0.9\n",
    "    print(total_purchase)\n",
    "    print(f\"Final Price after 10% discount: ${discounted_price:}\")\n",
    "else:\n",
    "    print(f\"Total Price: ${total_purchase:}\")\n"
   ]
  },
  {
   "cell_type": "markdown",
   "metadata": {},
   "source": [
    "2.Calculate Bulk Discount:\n",
    "\n",
    "If a customer buys more than 5 items, apply a 15% discount on the total price. Otherwise, no discount is applied. Display the total price."
   ]
  },
  {
   "cell_type": "code",
   "execution_count": 3,
   "metadata": {},
   "outputs": [
    {
     "name": "stdout",
     "output_type": "stream",
     "text": [
      "9\n",
      "Final Price after 15% discount: $2125.0\n"
     ]
    }
   ],
   "source": [
    "total_price = int(input(\"Enter the total price: \"))\n",
    "item_count = int(input(\"Enter the number of items: \"))\n",
    "if item_count > 5:\n",
    "    print(item_count)\n",
    "    discounted_price = total_price * 0.85\n",
    "    print(f\"Final Price after 15% discount: ${discounted_price:}\")\n",
    "else:\n",
    "    print(f\"Total Price: ${total_price:}\")\n"
   ]
  },
  {
   "cell_type": "markdown",
   "metadata": {},
   "source": [
    "3.Membership Discount:\n",
    "\n",
    "Check if the customer is a member (is_member = True). Members get a 20% discount; non-members get a 5% discount. Calculate and print the discounted price."
   ]
  },
  {
   "cell_type": "code",
   "execution_count": 31,
   "metadata": {},
   "outputs": [
    {
     "name": "stdout",
     "output_type": "stream",
     "text": [
      "Discounted Price: $8000.0\n"
     ]
    }
   ],
   "source": [
    "total_price = int(input(\"Enter the total price: \"))\n",
    "is_member = input(\"Is the customer a member? (y/n): \").lower() \n",
    "if is_member == \"y\":\n",
    "    discounted_price = total_price * 0.8\n",
    "else:\n",
    "    discounted_price = total_price * 0.95\n",
    "print(f\"Discounted Price: ${discounted_price:}\")\n"
   ]
  },
  {
   "cell_type": "markdown",
   "metadata": {},
   "source": [
    "4.Seasonal Sale:\n",
    "\n",
    "If today is a holiday (is_holiday = True), apply a 25% discount; otherwise, apply a 10% discount. Calculate the price after discount."
   ]
  },
  {
   "cell_type": "code",
   "execution_count": null,
   "metadata": {},
   "outputs": [
    {
     "name": "stdout",
     "output_type": "stream",
     "text": [
      "Discounted Price: $1875.0\n"
     ]
    }
   ],
   "source": [
    "total_price = int(input(\"Enter the total price: \"))\n",
    "is_holiday = input(\"Is today a holiday? (y/n): \").lower() \n",
    "if is_holiday== \"y\":\n",
    "    discounted_price = total_price * 0.75\n",
    "else:\n",
    "    discounted_price = total_price * 0.9\n",
    "print(f\"Discounted Price: ${discounted_price:}\")\n"
   ]
  },
  {
   "cell_type": "markdown",
   "metadata": {},
   "source": [
    "5.Buy-One-Get-One-Free:\n",
    "\n",
    "If a customer buys an even number of items, they get half of them for free. Otherwise, they pay for all. Calculate the number of items the customer has to pay for."
   ]
  },
  {
   "cell_type": "code",
   "execution_count": 5,
   "metadata": {},
   "outputs": [
    {
     "name": "stdout",
     "output_type": "stream",
     "text": [
      "Items to pay for: 5\n"
     ]
    }
   ],
   "source": [
    "item_count = int(input(\"Enter the number of items: \"))\n",
    "if item_count % 2 == 0:\n",
    "    payable_items = item_count // 2\n",
    "else:\n",
    "    payable_items = item_count\n",
    "print(f\"Items to pay for: {payable_items}\")\n"
   ]
  },
  {
   "cell_type": "markdown",
   "metadata": {},
   "source": [
    "6.Sales Tax:\n",
    "\n",
    "If the price of an item is greater than $500, apply a luxury tax of 15%. Otherwise, apply a standard tax of 8%. Display the total price after tax."
   ]
  },
  {
   "cell_type": "code",
   "execution_count": 6,
   "metadata": {},
   "outputs": [
    {
     "name": "stdout",
     "output_type": "stream",
     "text": [
      "Total Price after Tax: $690.0\n"
     ]
    }
   ],
   "source": [
    "price = int(input(\"Enter the price of the item: \"))\n",
    "if price > 500:\n",
    "    total_price = price * 1.15\n",
    "else:\n",
    "    total_price = price * 1.08\n",
    "print(f\"Total Price after Tax: ${total_price:}\")\n"
   ]
  },
  {
   "cell_type": "markdown",
   "metadata": {},
   "source": [
    "Income Tax:\n",
    "\n",
    "If a person's annual income is above $50,000, they pay 20% tax. Otherwise, they pay 10%. Calculate and display the tax amount."
   ]
  },
  {
   "cell_type": "code",
   "execution_count": 7,
   "metadata": {},
   "outputs": [
    {
     "name": "stdout",
     "output_type": "stream",
     "text": [
      "Tax Amount: $14000.0\n"
     ]
    }
   ],
   "source": [
    "income = int(input(\"Enter the annual income: \"))\n",
    "if income > 50000:\n",
    "    tax = income * 0.2\n",
    "else:\n",
    "    tax = income * 0.1\n",
    "print(f\"Tax Amount: ${tax:}\")\n"
   ]
  },
  {
   "cell_type": "markdown",
   "metadata": {},
   "source": [
    "8.Tax Bracket:\n",
    "\n",
    "Write a program to categorize a person into tax brackets:\n",
    "\n",
    "Income < $30,000: \"Low Tax\"\n",
    "\n",
    "$30,000 ≤ Income < $100,000: \"Medium Tax\"\n",
    "\n",
    "Income ≥ $100,000: \"High Tax\""
   ]
  },
  {
   "cell_type": "code",
   "execution_count": 8,
   "metadata": {},
   "outputs": [
    {
     "name": "stdout",
     "output_type": "stream",
     "text": [
      "Medium Tax\n"
     ]
    }
   ],
   "source": [
    "income = int(input(\"Enter the annual income: \"))\n",
    "if income < 30000:\n",
    "    print(\"Low Tax\")\n",
    "elif income < 100000:\n",
    "    print(\"Medium Tax\")\n",
    "else:\n",
    "    print(\"High Tax\")\n"
   ]
  },
  {
   "cell_type": "markdown",
   "metadata": {},
   "source": [
    "9.VAT Calculation:\n",
    "\n",
    "If the item is marked as essential (is_essential = True), apply a VAT of 5%. Otherwise, apply a VAT of 12%. Display the final price."
   ]
  },
  {
   "cell_type": "code",
   "execution_count": null,
   "metadata": {},
   "outputs": [
    {
     "name": "stdout",
     "output_type": "stream",
     "text": [
      "Final Price: $262.5\n"
     ]
    }
   ],
   "source": [
    "price = int(input(\"Enter the price of the item: \"))\n",
    "is_essential = input(\"Is the item essential? (y/n): \").lower()\n",
    "if is_essential == \"y\":\n",
    "    final_price = price * 1.05\n",
    "else:\n",
    "    final_price = price * 1.12\n",
    "print(f\"Final Price: ${final_price:}\")\n"
   ]
  },
  {
   "cell_type": "markdown",
   "metadata": {},
   "source": [
    "10.Tax-Free Day:\n",
    "\n",
    "If today is a tax-free day (tax_free = True), display the original price. Otherwise, add a 7% tax."
   ]
  },
  {
   "cell_type": "code",
   "execution_count": 34,
   "metadata": {},
   "outputs": [
    {
     "name": "stdout",
     "output_type": "stream",
     "text": [
      "Original Price: $785\n"
     ]
    }
   ],
   "source": [
    "price = int(input(\"Enter the price of the item: \"))\n",
    "tax_free = input(\"Is today a tax-free day? (y/n): \").lower()\n",
    "if tax_free == \"y\":\n",
    "    print(f\"Original Price: ${price:}\")\n",
    "else:\n",
    "    final_price = price * 1.07\n",
    "    print(f\"Final Price: ${final_price:}\")\n"
   ]
  },
  {
   "cell_type": "markdown",
   "metadata": {},
   "source": [
    "11.Free Shipping:\n",
    "\n",
    "If the total purchase amount is more than $50, offer free shipping; otherwise, charge $5 for shipping. Display the total amount including shipping."
   ]
  },
  {
   "cell_type": "code",
   "execution_count": 11,
   "metadata": {},
   "outputs": [
    {
     "name": "stdout",
     "output_type": "stream",
     "text": [
      "Total Amount (Free Shipping): $590\n"
     ]
    }
   ],
   "source": [
    "total_purchase = int(input(\"Enter the total purchase amount: \"))\n",
    "if total_purchase > 50:\n",
    "    print(f\"Total Amount (Free Shipping): ${total_purchase:}\")\n",
    "else:\n",
    "    print(f\"Total Amount with $5 Shipping Fee: ${total_purchase + 5:}\")\n"
   ]
  },
  {
   "cell_type": "markdown",
   "metadata": {},
   "source": [
    "12.Discount Code:\n",
    "\n",
    "If a customer enters the correct discount code (DISCOUNT10), apply a 10% discount. Otherwise, charge the full amount."
   ]
  },
  {
   "cell_type": "code",
   "execution_count": 12,
   "metadata": {},
   "outputs": [
    {
     "name": "stdout",
     "output_type": "stream",
     "text": [
      "Final Price: $153\n"
     ]
    }
   ],
   "source": [
    "total_price = int(input(\"Enter the total price: \"))\n",
    "code = input(\"Enter the discount code: \")\n",
    "if code == \"DISCOUNT10\":\n",
    "    final_price = total_price * 0.9\n",
    "else:\n",
    "    final_price = total_price\n",
    "print(f\"Final Price: ${final_price:}\")\n"
   ]
  },
  {
   "cell_type": "markdown",
   "metadata": {},
   "source": [
    "13.Tiered Discounts:\n",
    "\n",
    "Apply discounts based on the total price:\n",
    "\n",
    "$0–$50: No discount.\n",
    "\n",
    "$50–$100: 10% discount.\n",
    "\n",
    "Over $100: 20% discount."
   ]
  },
  {
   "cell_type": "code",
   "execution_count": 13,
   "metadata": {},
   "outputs": [
    {
     "name": "stdout",
     "output_type": "stream",
     "text": [
      "Final Price after Discount: $100.8\n"
     ]
    }
   ],
   "source": [
    "total_price = int(input(\"Enter the total price: \"))\n",
    "if total_price <= 50:\n",
    "    discount = 0\n",
    "elif total_price <= 100:\n",
    "    discount = total_price * 0.1\n",
    "else:\n",
    "    discount = total_price * 0.2\n",
    "print(f\"Final Price after Discount: ${total_price - discount:}\")\n"
   ]
  },
  {
   "cell_type": "markdown",
   "metadata": {},
   "source": [
    "14.Minimum Purchase Requirement:\n",
    "\n",
    "If the total amount is less than $20, display a message: \"Minimum purchase of $20 is required.\" Otherwise, display the total amount."
   ]
  },
  {
   "cell_type": "code",
   "execution_count": 14,
   "metadata": {},
   "outputs": [
    {
     "name": "stdout",
     "output_type": "stream",
     "text": [
      "Total Amount: $564\n"
     ]
    }
   ],
   "source": [
    "total_price = int(input(\"Enter the total price: \"))\n",
    "if total_price < 20:\n",
    "    print(\"Minimum purchase of $20 is required.\")\n",
    "else:\n",
    "    print(f\"Total Amount: ${total_price:}\")\n"
   ]
  },
  {
   "cell_type": "markdown",
   "metadata": {},
   "source": [
    "15.Loyalty Points:\n",
    "\n",
    "If a customer is a loyal member (is_loyal = True), they earn double loyalty points for their purchase. Otherwise, they earn standard points."
   ]
  },
  {
   "cell_type": "code",
   "execution_count": 15,
   "metadata": {},
   "outputs": [
    {
     "name": "stdout",
     "output_type": "stream",
     "text": [
      "Loyalty Points Earned: 104000000\n"
     ]
    }
   ],
   "source": [
    "points = int(input(\"Enter the number of loyalty points: \"))\n",
    "is_loyal = input(\"Is the customer a loyal member? (yes/no): \").lower() == \"yes\"\n",
    "if is_loyal:\n",
    "    earned_points = points * 2\n",
    "else:\n",
    "    earned_points = points\n",
    "print(f\"Loyalty Points Earned: {earned_points}\")\n"
   ]
  },
  {
   "cell_type": "markdown",
   "metadata": {},
   "source": [
    "16.Travel Discount:\n",
    "\n",
    "If a person is traveling more than 500 miles, offer a 20% discount on ticket price. Otherwise, charge the full amount."
   ]
  },
  {
   "cell_type": "code",
   "execution_count": 16,
   "metadata": {},
   "outputs": [
    {
     "name": "stdout",
     "output_type": "stream",
     "text": [
      "Ticket Price: $120\n"
     ]
    }
   ],
   "source": [
    "ticket_price = int(input(\"Enter the ticket price: \"))\n",
    "miles = int(input(\"Enter the travel distance in miles: \"))\n",
    "if miles > 500:\n",
    "    discounted_price = ticket_price * 80 // 100  # 20% discount\n",
    "else:\n",
    "    discounted_price = ticket_price\n",
    "print(f\"Ticket Price: ${discounted_price}\")\n"
   ]
  },
  {
   "cell_type": "markdown",
   "metadata": {},
   "source": [
    "17.Child or Senior Discount:\n",
    "\n",
    "If a passenger is under 12 or over 60 years old, apply a 15% discount on the ticket price. Otherwise, charge the full price."
   ]
  },
  {
   "cell_type": "code",
   "execution_count": 36,
   "metadata": {},
   "outputs": [
    {
     "name": "stdout",
     "output_type": "stream",
     "text": [
      "Ticket Price: $102\n"
     ]
    }
   ],
   "source": [
    "ticket_price = int(input(\"Enter the ticket price: \"))\n",
    "age = int(input(\"Enter the passenger's age: \"))\n",
    "if age < 12 or age > 60:\n",
    "\n",
    "    discounted_price = ticket_price * 85 // 100  # 15% discount\n",
    "else:\n",
    "    discounted_price = ticket_price\n",
    "print(f\"Ticket Price: ${discounted_price}\")\n"
   ]
  },
  {
   "cell_type": "markdown",
   "metadata": {},
   "source": [
    "18.Ticket Type Pricing:\n",
    "\n",
    "If the ticket is for a weekend (is_weekend = True), add a 10% surcharge. Otherwise, charge the standard price."
   ]
  },
  {
   "cell_type": "code",
   "execution_count": 18,
   "metadata": {},
   "outputs": [
    {
     "name": "stdout",
     "output_type": "stream",
     "text": [
      "Ticket Price: $136\n"
     ]
    }
   ],
   "source": [
    "ticket_price = int(input(\"Enter the ticket price: \"))\n",
    "is_weekend = input(\"Is the ticket for a weekend? (yes/no): \").lower() == \"yes\"\n",
    "if is_weekend:\n",
    "    final_price = ticket_price * 110 // 100  # 10% surcharge\n",
    "else:\n",
    "    final_price = ticket_price\n",
    "print(f\"Ticket Price: ${final_price}\")\n"
   ]
  },
  {
   "cell_type": "markdown",
   "metadata": {},
   "source": [
    "19.Baggage Fee:\n",
    "\n",
    "If the total baggage weight is over 20kg, charge $10 per extra kilogram. Otherwise, no extra fee."
   ]
  },
  {
   "cell_type": "code",
   "execution_count": 19,
   "metadata": {},
   "outputs": [
    {
     "name": "stdout",
     "output_type": "stream",
     "text": [
      "Extra Baggage Fee: $0\n"
     ]
    }
   ],
   "source": [
    "baggage_weight = int(input(\"Enter the total baggage weight in kg: \"))\n",
    "if baggage_weight > 20:\n",
    "    extra_fee = (baggage_weight - 20) * 10\n",
    "else:\n",
    "    extra_fee = 0\n",
    "print(f\"Extra Baggage Fee: ${extra_fee}\")\n"
   ]
  },
  {
   "cell_type": "markdown",
   "metadata": {},
   "source": [
    "20.Early Bird Discount:\n",
    "\n",
    "If a ticket is booked more than 30 days in advance, apply a 10% discount. Otherwise, charge the full price."
   ]
  },
  {
   "cell_type": "code",
   "execution_count": 20,
   "metadata": {},
   "outputs": [
    {
     "name": "stdout",
     "output_type": "stream",
     "text": [
      "Ticket Price: $169\n"
     ]
    }
   ],
   "source": [
    "ticket_price = int(input(\"Enter the ticket price: \"))\n",
    "days_in_advance = int(input(\"Enter the number of days in advance the ticket is booked: \"))\n",
    "if days_in_advance > 30:\n",
    "    discounted_price = ticket_price * 90 // 100  # 10% discount\n",
    "else:\n",
    "    discounted_price = ticket_price\n",
    "print(f\"Ticket Price: ${discounted_price}\")\n"
   ]
  },
  {
   "cell_type": "markdown",
   "metadata": {},
   "source": [
    "21.Pass or Fail:\n",
    "\n",
    "If a student scores 40 or more, print \"Pass\". Otherwise, print \"Fail\"."
   ]
  },
  {
   "cell_type": "code",
   "execution_count": 21,
   "metadata": {},
   "outputs": [
    {
     "name": "stdout",
     "output_type": "stream",
     "text": [
      "Pass\n"
     ]
    }
   ],
   "source": [
    "score = int(input(\"Enter the student's score: \"))\n",
    "if score >= 40:\n",
    "    print(\"Pass\")\n",
    "else:\n",
    "    print(\"Fail\")\n"
   ]
  },
  {
   "cell_type": "markdown",
   "metadata": {},
   "source": [
    "22.Grade Assignment:\n",
    "\n",
    "Based on a student's score, assign grades:\n",
    "\n",
    "90 and above: \"A\"\n",
    "\n",
    "75–89: \"B\"\n",
    "\n",
    "50–74: \"C\"\n",
    "\n",
    "Below 50: \"F\""
   ]
  },
  {
   "cell_type": "code",
   "execution_count": 22,
   "metadata": {},
   "outputs": [
    {
     "name": "stdout",
     "output_type": "stream",
     "text": [
      "Grade: B\n"
     ]
    }
   ],
   "source": [
    "score = int(input(\"Enter the student's score: \"))\n",
    "if score >= 90:\n",
    "    grade = \"A\"\n",
    "elif score >= 75:\n",
    "    grade = \"B\"\n",
    "elif score >= 50:\n",
    "    grade = \"C\"\n",
    "else:\n",
    "    grade = \"F\"\n",
    "print(f\"Grade: {grade}\")\n"
   ]
  },
  {
   "cell_type": "markdown",
   "metadata": {},
   "source": [
    "23.Bonus Marks:\n",
    "\n",
    "If a student completes all assignments, add 5 bonus marks to their score. Otherwise, no bonus marks."
   ]
  },
  {
   "cell_type": "code",
   "execution_count": 23,
   "metadata": {},
   "outputs": [
    {
     "name": "stdout",
     "output_type": "stream",
     "text": [
      "Final Score: 69\n"
     ]
    }
   ],
   "source": [
    "score = int(input(\"Enter the student's score: \"))\n",
    "completed_assignments = input(\"Has the student completed all assignments? (yes/no): \").lower() == \"yes\"\n",
    "if completed_assignments:\n",
    "    score += 5\n",
    "print(f\"Final Score: {score}\")\n"
   ]
  },
  {
   "cell_type": "markdown",
   "metadata": {},
   "source": [
    "24.Attendance Eligibility:\n",
    "\n",
    "If a student's attendance is 75% or more, they are eligible to take the exam. Otherwise, they are not."
   ]
  },
  {
   "cell_type": "code",
   "execution_count": 24,
   "metadata": {},
   "outputs": [
    {
     "name": "stdout",
     "output_type": "stream",
     "text": [
      "Eligible to take the exam.\n"
     ]
    }
   ],
   "source": [
    "attendance = int(input(\"Enter the student's attendance percentage: \"))\n",
    "if attendance >= 75:\n",
    "    print(\"Eligible to take the exam.\")\n",
    "else:\n",
    "    print(\"Not eligible to take the exam.\")\n"
   ]
  },
  {
   "cell_type": "markdown",
   "metadata": {},
   "source": [
    "25.Scholarship Eligibility:\n",
    "\n",
    "If a student's grade is \"A\" and their annual family income is below $30,000, they are eligible for a scholarship. Otherwise, they are not."
   ]
  },
  {
   "cell_type": "code",
   "execution_count": 42,
   "metadata": {},
   "outputs": [
    {
     "name": "stdout",
     "output_type": "stream",
     "text": [
      "Not eligible for scholarship.\n"
     ]
    }
   ],
   "source": [
    "grade = input(\"Enter the student's grade (A/B/C/F): \")\n",
    "family_income = int(input(\"Enter the annual family income: \"))\n",
    "if grade == \"A\" and family_income < 30000:\n",
    "    print(\"Eligible for scholarship.\")\n",
    "else:\n",
    "    print(\"Not eligible for scholarship.\")\n"
   ]
  },
  {
   "cell_type": "code",
   "execution_count": null,
   "metadata": {},
   "outputs": [],
   "source": []
  }
 ],
 "metadata": {
  "kernelspec": {
   "display_name": "base",
   "language": "python",
   "name": "python3"
  },
  "language_info": {
   "codemirror_mode": {
    "name": "ipython",
    "version": 3
   },
   "file_extension": ".py",
   "mimetype": "text/x-python",
   "name": "python",
   "nbconvert_exporter": "python",
   "pygments_lexer": "ipython3",
   "version": "3.12.7"
  }
 },
 "nbformat": 4,
 "nbformat_minor": 2
}
