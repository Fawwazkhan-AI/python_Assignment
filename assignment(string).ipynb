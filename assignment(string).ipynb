{
 "cells": [
  {
   "cell_type": "markdown",
   "metadata": {},
   "source": [
    "### 1. Write a program that accepts a string from user. Your program should count and display number of\n,vowels in that string. \n"
   ]
  },
  {
   "cell_type": "code",
   "execution_count": 2,
   "metadata": {},
   "outputs": [
    {
     "name": "stdout",
     "output_type": "stream",
     "text": [
      "Number of vowels: 3\n"
     ]
    }
   ],
   "source": [
    "string = input(\"Enter a string: \")\n",
    "vowels = \"aeiouAEIOU\"\n",
    "count = sum(1 for char in string if char in vowels)\n",
    "print(f\"Number of vowels: {count}\")"
   ]
  },
  {
   "cell_type": "markdown",
   "metadata": {},
   "source": [
    "#  2. Write a program that reads a string from keyboard and display:\n",
    "* The number of uppercase letters in the string\n",
    "* The number of lowercase letters in the string\n",
    "* The number of digits in the string\n",
    "* The number of whitespace characters in the string "
   ]
  },
  {
   "cell_type": "code",
   "execution_count": 2,
   "metadata": {},
   "outputs": [
    {
     "name": "stdout",
     "output_type": "stream",
     "text": [
      "Enter a string: muhammad fawwaz khan\n",
      "Uppercase letters: 0\n",
      "Lowercase letters: 18\n",
      "Digits: 0\n",
      "Whitespace characters: 2\n"
     ]
    }
   ],
   "source": [
    "string = input(\"Enter a string: \")\n",
    "upper_count = sum(1 for char in string if char.isupper())\n",
    "lower_count = sum(1 for char in string if char.islower())\n",
    "digit_count = sum(1 for char in string if char.isdigit())\n",
    "whitespace_count = sum(1 for char in string if char.isspace())\n",
    "\n",
    "print(f\"Uppercase letters: {upper_count}\")\n",
    "print(f\"Lowercase letters: {lower_count}\")\n",
    "print(f\"Digits: {digit_count}\")\n",
    "print(f\"Whitespace characters: {whitespace_count}\")"
   ]
  },
  {
   "cell_type": "markdown",
   "metadata": {},
   "source": [
    "# 3. Write a Python program that accepts a string from user. Your program should create and display a\n",
    "new string where the first and last characters have been exchanged.\n",
    "\n",
    "For example if the user enters the string 'HELLO' then new string would be 'OELLH' \n"
   ]
  },
  {
   "cell_type": "code",
   "execution_count": 11,
   "metadata": {},
   "outputs": [
    {
     "name": "stdout",
     "output_type": "stream",
     "text": [
      "Enter a string: h e l l o\n"
     ]
    }
   ],
   "source": [
    "string = input(\"Enter a string: \")\n",
    "if len(string) > 1:\n",
    "    new_string = string[-1] + string[1:-1] + string[0]\n",
    "else:\n",
    "    new_string = string \n",
    "    print(f\"New string: {new_string}\")"
   ]
  },
  {
   "cell_type": "markdown",
   "metadata": {},
   "source": [
    "# 4. Write a Python program that accepts a string from user. Your program should create a new string in\n",
    "reverse of first string and display it.\n",
    "For example if the user enters the string 'EXAM' then new string would be 'MAXE'"
   ]
  },
  {
   "cell_type": "code",
   "execution_count": 12,
   "metadata": {},
   "outputs": [
    {
     "name": "stdout",
     "output_type": "stream",
     "text": [
      "Enter a string: exam\n",
      "Reversed string: maxe\n"
     ]
    }
   ],
   "source": [
    "string = input(\"Enter a string: \")\n",
    "new_string = \"\"\n",
    "for char in string:\n",
    "    new_string = char + new_string\n",
    "print(f\"Reversed string: {new_string}\")"
   ]
  },
  {
   "cell_type": "markdown",
   "metadata": {},
   "source": [
    "#  5. Write a Python program that accepts a string from user. Your program should create a new string by\n",
    "shifting one position to left. \n",
    "\n",
    "For example if the user enters the string 'examination 2021' then new string would be 'xamination\n",
    "2021e' \n"
   ]
  },
  {
   "cell_type": "code",
   "execution_count": 13,
   "metadata": {},
   "outputs": [
    {
     "name": "stdout",
     "output_type": "stream",
     "text": [
      "Enter a string: examination\n",
      "Shifted string: xaminatione\n"
     ]
    }
   ],
   "source": [
    "string = input(\"Enter a string: \")\n",
    "if len(string) > 1:\n",
    "    new_string = string[1:] + string[0]\n",
    "else:\n",
    "    new_string = string  # If the string is a single character\n",
    "print(f\"Shifted string: {new_string}\")"
   ]
  },
  {
   "cell_type": "markdown",
   "metadata": {},
   "source": [
    "#  6. Write a program that asks the user to input his name and print its initials. Assuming that the user\n",
    "\n",
    "always types first name, middle name and last name and does not include any unnecessary spaces.\n",
    "\n",
    "For example, if the user enters Ajay Kumar Garg the program should display A. K. G.\n",
    "\n",
    "Note:Don't use split() method \n"
   ]
  },
  {
   "cell_type": "code",
   "execution_count": 14,
   "metadata": {},
   "outputs": [
    {
     "name": "stdout",
     "output_type": "stream",
     "text": [
      "Enter your name (first middle last): m fawwaz khan\n",
      "m. f. k.\n"
     ]
    }
   ],
   "source": [
    "name = input(\"Enter your name (first middle last): \")\n",
    "initials = \"\"\n",
    "for i in range(len(name)):\n",
    "    if i == 0 or name[i-1] == ' ':\n",
    "        initials += name[i] + \". \"\n",
    "print(initials.strip())"
   ]
  },
  {
   "cell_type": "markdown",
   "metadata": {},
   "source": [
    "# 7. A palindrome is a string that reads the same backward as forward. For example, the words dad,\n",
    "\n",
    "madam and radar are all palindromes. Write a programs that determines whether the string is a\n",
    "palindrome.\n",
    "\n",
    "Note: do not use reverse() method"
   ]
  },
  {
   "cell_type": "code",
   "execution_count": 15,
   "metadata": {},
   "outputs": [
    {
     "name": "stdout",
     "output_type": "stream",
     "text": [
      "Enter a string: my favourite spot is seaside\n",
      "The string is a palindrome: False\n"
     ]
    }
   ],
   "source": [
    "string = input(\"Enter a string: \")\n",
    "length = len(string)\n",
    "is_palindrome = True\n",
    "for i in range(length // 2):\n",
    "    if string[i] != string[length - 1 - i]:\n",
    "        is_palindrome = False\n",
    "        break\n",
    "print(f\"The string is a palindrome: {is_palindrome}\")"
   ]
  },
  {
   "cell_type": "markdown",
   "metadata": {},
   "source": [
    "# 8. Write a program that display following output:\n",
    "SHIFT\n",
    "HIFTS\n",
    "IFTSH\n",
    "FTSHI\n",
    "TSHIF\n",
    "SHIFT "
   ]
  },
  {
   "cell_type": "code",
   "execution_count": 16,
   "metadata": {},
   "outputs": [
    {
     "name": "stdout",
     "output_type": "stream",
     "text": [
      "SHIFT\n",
      "HIFTS\n",
      "IFTSH\n",
      "FTSHI\n",
      "TSHIF\n"
     ]
    }
   ],
   "source": [
    "string = \"SHIFT\"\n",
    "for i in range(len(string)):\n",
    "    print(string[i:] + string[:i])"
   ]
  },
  {
   "cell_type": "markdown",
   "metadata": {},
   "source": [
    "# 9. Write a program in python that accepts a string to setup a passwords. Your entered password must\n",
    "meet the following requirements: "
   ]
  },
  {
   "cell_type": "code",
   "execution_count": 1,
   "metadata": {},
   "outputs": [
    {
     "name": "stdout",
     "output_type": "stream",
     "text": [
      "Password is invalid. It must be at least 8 characters long, contain at least one uppercase letter, one lowercase letter, and one digit.\n"
     ]
    }
   ],
   "source": [
    "password = input(\"Enter a password: \")\n",
    "if (len(password) >= 8 and\n",
    "    any(char.isupper() for char in password) and\n",
    "    any(char.islower() for char in password) and\n",
    "    any(char.isdigit() for char in password)):\n",
    "    print(\"Password is valid.\")\n",
    "else:\n",
    "    print(\"Password is invalid. It must be at least 8 characters long, contain at least one uppercase letter, one lowercase letter, and one digit.\")"
   ]
  },
  {
   "cell_type": "code",
   "execution_count": null,
   "metadata": {},
   "outputs": [],
   "source": []
  }
 ],
 "metadata": {
  "kernelspec": {
   "display_name": "base",
   "language": "python",
   "name": "python3"
  },
  "language_info": {
   "codemirror_mode": {
    "name": "ipython",
    "version": 3
   },
   "file_extension": ".py",
   "mimetype": "text/x-python",
   "name": "python",
   "nbconvert_exporter": "python",
   "pygments_lexer": "ipython3",
   "version": "3.12.7"
  }
 },
 "nbformat": 4,
 "nbformat_minor": 2
}
