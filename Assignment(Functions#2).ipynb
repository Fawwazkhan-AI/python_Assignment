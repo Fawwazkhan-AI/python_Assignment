{
 "cells": [
  {
   "cell_type": "markdown",
   "metadata": {},
   "source": [
    "# Task1: \n",
    "You need to write a function in python that return all such numbers which are \n",
    "divisible by 7 but are not a multiple of 5, between 2000 and 3200 (both included). \n",
    "Return the obtained numbers in a comma-separated sequence on a single line."
   ]
  },
  {
   "cell_type": "code",
   "execution_count": 3,
   "metadata": {},
   "outputs": [
    {
     "name": "stdout",
     "output_type": "stream",
     "text": [
      "2002,\n",
      "2009,\n",
      "2016,\n",
      "2023,\n",
      "2037,\n",
      "2044,\n",
      "2051,\n",
      "2058,\n",
      "2072,\n",
      "2079,\n",
      "2086,\n",
      "2093,\n",
      "2107,\n",
      "2114,\n",
      "2121,\n",
      "2128,\n",
      "2142,\n",
      "2149,\n",
      "2156,\n",
      "2163,\n",
      "2177,\n",
      "2184,\n",
      "2191,\n",
      "2198,\n",
      "2212,\n",
      "2219,\n",
      "2226,\n",
      "2233,\n",
      "2247,\n",
      "2254,\n",
      "2261,\n",
      "2268,\n",
      "2282,\n",
      "2289,\n",
      "2296,\n",
      "2303,\n",
      "2317,\n",
      "2324,\n",
      "2331,\n",
      "2338,\n",
      "2352,\n",
      "2359,\n",
      "2366,\n",
      "2373,\n",
      "2387,\n",
      "2394,\n",
      "2401,\n",
      "2408,\n",
      "2422,\n",
      "2429,\n",
      "2436,\n",
      "2443,\n",
      "2457,\n",
      "2464,\n",
      "2471,\n",
      "2478,\n",
      "2492,\n",
      "2499,\n",
      "2506,\n",
      "2513,\n",
      "2527,\n",
      "2534,\n",
      "2541,\n",
      "2548,\n",
      "2562,\n",
      "2569,\n",
      "2576,\n",
      "2583,\n",
      "2597,\n",
      "2604,\n",
      "2611,\n",
      "2618,\n",
      "2632,\n",
      "2639,\n",
      "2646,\n",
      "2653,\n",
      "2667,\n",
      "2674,\n",
      "2681,\n",
      "2688,\n",
      "2702,\n",
      "2709,\n",
      "2716,\n",
      "2723,\n",
      "2737,\n",
      "2744,\n",
      "2751,\n",
      "2758,\n",
      "2772,\n",
      "2779,\n",
      "2786,\n",
      "2793,\n",
      "2807,\n",
      "2814,\n",
      "2821,\n",
      "2828,\n",
      "2842,\n",
      "2849,\n",
      "2856,\n",
      "2863,\n",
      "2877,\n",
      "2884,\n",
      "2891,\n",
      "2898,\n",
      "2912,\n",
      "2919,\n",
      "2926,\n",
      "2933,\n",
      "2947,\n",
      "2954,\n",
      "2961,\n",
      "2968,\n",
      "2982,\n",
      "2989,\n",
      "2996,\n",
      "3003,\n",
      "3017,\n",
      "3024,\n",
      "3031,\n",
      "3038,\n",
      "3052,\n",
      "3059,\n",
      "3066,\n",
      "3073,\n",
      "3087,\n",
      "3094,\n",
      "3101,\n",
      "3108,\n",
      "3122,\n",
      "3129,\n",
      "3136,\n",
      "3143,\n",
      "3157,\n",
      "3164,\n",
      "3171,\n",
      "3178,\n",
      "3192,\n",
      "3199\n"
     ]
    }
   ],
   "source": [
    "def divisible_by_7_not_5():\n",
    "    result = [str(i) for i in range(2000, 3201) if i % 7 == 0 and i % 5 != 0]\n",
    "    return \",\\n\".join(result)\n",
    "\n",
    "print(divisible_by_7_not_5())\n"
   ]
  },
  {
   "cell_type": "markdown",
   "metadata": {},
   "source": [
    "# Task2: \n",
    "You need code a function that calculates and returns the value according to the \n",
    "given formula: \n",
    "P = Square root of [(2 * A * B)/C] \n",
    "Following are the fixed values of A and B: \n",
    "A is 50. B is 30. \n",
    "The values of the literal C should be taken as console input to your program in a \n",
    "comma-separated sequence. \n",
    "Example \n",
    "Let us assume the following comma separated input sequence is given to the \n",
    "program: \n",
    "100,150,180 \n",
    "The output of the program should be: \n",
    "18,22,24"
   ]
  },
  {
   "cell_type": "code",
   "execution_count": 1,
   "metadata": {},
   "outputs": [
    {
     "name": "stdout",
     "output_type": "stream",
     "text": [
      "5,4,4\n"
     ]
    }
   ],
   "source": [
    "import math\n",
    "\n",
    "def calculate_formula(c_values):\n",
    "    A = 50\n",
    "    B = 30\n",
    "    c_values = map(int, c_values.split(\",\"))\n",
    "    results = [int(math.sqrt((2 * A * B) / C)) for C in c_values]\n",
    "    return \",\".join(map(str, results))\n",
    "\n",
    "print(calculate_formula(\"100,150,180\"))\n"
   ]
  },
  {
   "cell_type": "markdown",
   "metadata": {},
   "source": [
    "# Task3: \n",
    "You need to write a function that takes a comma separated sequence of words as \n",
    "input and prints the words in a comma-separated sequence after sorting them \n",
    "alphabetically. \n",
    "Suppose the following input is supplied to the program: \n",
    "without,hello,bag,world \n",
    "Then, the output should be: \n",
    "bag,hello,without,world"
   ]
  },
  {
   "cell_type": "code",
   "execution_count": 5,
   "metadata": {},
   "outputs": [
    {
     "name": "stdout",
     "output_type": "stream",
     "text": [
      "bag,hello,without,world\n"
     ]
    }
   ],
   "source": [
    "def sort_words(words):\n",
    "    word_list = words.split(\",\")\n",
    "    word_list.sort()\n",
    "    return \",\".join(word_list)\n",
    "\n",
    "print(sort_words(\"without,hello,bag,world\"))\n"
   ]
  },
  {
   "cell_type": "markdown",
   "metadata": {},
   "source": [
    "# Task4: \n",
    "You need to write a program that takes sequence of lines as input and prints the \n",
    "lines after making all characters in the sentence capitalized. \n",
    "Suppose the following input is supplied to the program: \n",
    "Hello world \n",
    "Practice makes perfect \n",
    "Then, the output should be:"
   ]
  },
  {
   "cell_type": "code",
   "execution_count": 6,
   "metadata": {},
   "outputs": [
    {
     "name": "stdout",
     "output_type": "stream",
     "text": [
      "HELLO WORLD\n",
      "PRACTICE MAKES PERFECT\n"
     ]
    }
   ],
   "source": [
    "def capitalize_lines(lines):\n",
    "    return [line.upper() for line in lines]\n",
    "\n",
    "lines = [\"Hello world\", \"Practice makes perfect\"]\n",
    "print(\"\\n\".join(capitalize_lines(lines)))\n"
   ]
  },
  {
   "cell_type": "markdown",
   "metadata": {},
   "source": [
    "# Task5: \n",
    "You need to write a function that counts the number of vowels in a given \n",
    "sentence as input from console. \n",
    "Suppose the following input is supplied to the program: \n",
    "Hello world \n",
    "Practice makes perfect \n",
    "Then, the output should be: \n",
    "a appeared 2 times \n",
    "e appeared 5 times \n",
    "i appeared 1 time \n",
    "o appeared 2 times \n",
    "u appeared 0 time \n",
    "PRACTICE MAKES PERFECT"
   ]
  },
  {
   "cell_type": "code",
   "execution_count": 7,
   "metadata": {},
   "outputs": [
    {
     "name": "stdout",
     "output_type": "stream",
     "text": [
      "a appeared 2 times\n",
      "e appeared 5 times\n",
      "i appeared 1 times\n",
      "o appeared 2 times\n",
      "u appeared 0 times\n"
     ]
    }
   ],
   "source": [
    "def count_vowels(sentence):\n",
    "    vowels = \"aeiou\"\n",
    "    counts = {vowel: sentence.lower().count(vowel) for vowel in vowels}\n",
    "    return [f\"{vowel} appeared {count} times\" for vowel, count in counts.items()]\n",
    "\n",
    "sentence = \"Hello world Practice makes perfect\"\n",
    "print(\"\\n\".join(count_vowels(sentence)))\n"
   ]
  },
  {
   "cell_type": "markdown",
   "metadata": {},
   "source": [
    "# Task6: \n",
    "You need write a function that traces and makes a list of all such numbers \n",
    "from1000 to 3000 in which all the digits are even numbers."
   ]
  },
  {
   "cell_type": "code",
   "execution_count": 8,
   "metadata": {},
   "outputs": [
    {
     "name": "stdout",
     "output_type": "stream",
     "text": [
      "2000,2002,2004,2006,2008,2020,2022,2024,2026,2028,2040,2042,2044,2046,2048,2060,2062,2064,2066,2068,2080,2082,2084,2086,2088,2200,2202,2204,2206,2208,2220,2222,2224,2226,2228,2240,2242,2244,2246,2248,2260,2262,2264,2266,2268,2280,2282,2284,2286,2288,2400,2402,2404,2406,2408,2420,2422,2424,2426,2428,2440,2442,2444,2446,2448,2460,2462,2464,2466,2468,2480,2482,2484,2486,2488,2600,2602,2604,2606,2608,2620,2622,2624,2626,2628,2640,2642,2644,2646,2648,2660,2662,2664,2666,2668,2680,2682,2684,2686,2688,2800,2802,2804,2806,2808,2820,2822,2824,2826,2828,2840,2842,2844,2846,2848,2860,2862,2864,2866,2868,2880,2882,2884,2886,2888\n"
     ]
    }
   ],
   "source": [
    "def even_digit_numbers():\n",
    "    result = [str(i) for i in range(1000, 3001) if all(int(d) % 2 == 0 for d in str(i))]\n",
    "    return result\n",
    "\n",
    "print(\",\".join(even_digit_numbers()))\n"
   ]
  },
  {
   "cell_type": "markdown",
   "metadata": {},
   "source": [
    "# Task7: \n",
    "You need to write a code which accepts a sequence of comma separated 4 digit \n",
    "binary numbers as its input and then check whether they are divisible by 5 or not. \n",
    "The numbers that are divisible by 5 are to be printed in a comma separated \n",
    "sequence. \n",
    "Example: \n",
    "0100,0011,1010,1001 \n",
    "Then the output should be: \n",
    "1010 \n",
    "Reference: https://www.datacamp.com/.../python-data-type-conversion"
   ]
  },
  {
   "cell_type": "code",
   "execution_count": 9,
   "metadata": {},
   "outputs": [
    {
     "name": "stdout",
     "output_type": "stream",
     "text": [
      "1010\n"
     ]
    }
   ],
   "source": [
    "def binary_divisible_by_5(binary_numbers):\n",
    "    numbers = binary_numbers.split(\",\")\n",
    "    divisible = [num for num in numbers if int(num, 2) % 5 == 0]\n",
    "    return \",\".join(divisible)\n",
    "\n",
    "print(binary_divisible_by_5(\"0100,0011,1010,1001\"))\n"
   ]
  },
  {
   "cell_type": "markdown",
   "metadata": {},
   "source": [
    "# Task8: \n",
    "Write a program that accepts a sentence and calculate the number of letters and \n",
    "digits. \n",
    "Suppose the following input is supplied to the program: \n",
    "hello world! 123 \n",
    "Then, the output should be: \n",
    "LETTERS 10 \n",
    "DIGITS 3"
   ]
  },
  {
   "cell_type": "code",
   "execution_count": 10,
   "metadata": {},
   "outputs": [
    {
     "name": "stdout",
     "output_type": "stream",
     "text": [
      "LETTERS 10\n",
      "DIGITS 3\n"
     ]
    }
   ],
   "source": [
    "def count_letters_and_digits(sentence):\n",
    "    letters = sum(c.isalpha() for c in sentence)\n",
    "    digits = sum(c.isdigit() for c in sentence)\n",
    "    return f\"LETTERS {letters}\\nDIGITS {digits}\"\n",
    "\n",
    "print(count_letters_and_digits(\"hello world! 123\"))\n"
   ]
  },
  {
   "cell_type": "code",
   "execution_count": null,
   "metadata": {},
   "outputs": [],
   "source": []
  }
 ],
 "metadata": {
  "kernelspec": {
   "display_name": "base",
   "language": "python",
   "name": "python3"
  },
  "language_info": {
   "codemirror_mode": {
    "name": "ipython",
    "version": 3
   },
   "file_extension": ".py",
   "mimetype": "text/x-python",
   "name": "python",
   "nbconvert_exporter": "python",
   "pygments_lexer": "ipython3",
   "version": "3.12.7"
  }
 },
 "nbformat": 4,
 "nbformat_minor": 2
}
